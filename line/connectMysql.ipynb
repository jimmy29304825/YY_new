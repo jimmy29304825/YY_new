{
 "cells": [
  {
   "cell_type": "code",
   "execution_count": 5,
   "metadata": {},
   "outputs": [
    {
     "name": "stdout",
     "output_type": "stream",
     "text": [
      "None\n"
     ]
    }
   ],
   "source": [
    "'''\n",
    "# 建立SQL連線權限\n",
    "\n",
    "CREATE USER 'yy_jimmy'@'127.0.0.1' IDENTIFIED BY 'yyjimmy';\n",
    "GRANT ALL PRIVILEGES ON yyostech.* TO 'yy_jimmy'@'127.0.0.1';\n",
    "FLUSH PRIVILEGES;\n",
    "'''\n",
    "\n",
    "# 測試連線\n",
    "import pymysql\n",
    "# 連線資料庫\n",
    "db = pymysql.connect(host='127.0.0.1',\n",
    "                     port=3306,\n",
    "                     user='yy_jimmy',\n",
    "                     password='yyjimmy',\n",
    "                     db='yyostech')\n",
    "# 建立連線物件\n",
    "cursor = db.cursor()\n",
    "# 新增資料表\n",
    "# user_right\n",
    "cursor.execute(\"\"\"select `line_id` from user_profile where `line_id` = '1234'\"\"\")\n",
    "# 使用 fetchone() 方法获取单条数据.\n",
    "data = cursor.fetchone()\n",
    " \n",
    "print(data)\n",
    " \n",
    "# 关闭数据库连接\n",
    "db.close()"
   ]
  },
  {
   "cell_type": "code",
   "execution_count": 3,
   "metadata": {},
   "outputs": [
    {
     "name": "stdout",
     "output_type": "stream",
     "text": [
      "None\n"
     ]
    },
    {
     "name": "stderr",
     "output_type": "stream",
     "text": [
      "D:\\python\\factory\\venv\\lib\\site-packages\\pymysql\\cursors.py:170: Warning: (1300, \"Invalid utf8mb4 character string: '89504E'\")\n",
      "  result = self._query(query)\n"
     ]
    }
   ],
   "source": [
    "# 寫入資料\n",
    "import pymysql\n",
    " \n",
    "# 連線資料庫\n",
    "db = pymysql.connect(host='127.0.0.1',\n",
    "                     port=3306,\n",
    "                     user='yy_jimmy',\n",
    "                     password='yyjimmy',\n",
    "                     db='yyostech')\n",
    "# 建立連線物件\n",
    "cursor = db.cursor()\n",
    "sql = \"\"\"INSERT INTO user_right (right_id, menu_id, menu_image) VALUES(%s, %s, %s);\"\"\"\n",
    "\n",
    "right_id = 0\n",
    "menu_id = 'richmenu-6273c8438983aceac1d6ec86e304c169'\n",
    "with open('./lineMenu1.png', 'rb') as file:\n",
    "    menu_image = file.read()\n",
    "    \n",
    "data = (right_id, menu_id, menu_image)\n",
    "cursor.execute(sql, data)\n",
    "# 確認執行上述指令\n",
    "result = db.commit()\n",
    "# 回傳結果(none為成功)\n",
    "print (result)\n",
    " \n",
    "# 關閉資料庫連線\n",
    "db.close()"
   ]
  },
  {
   "cell_type": "code",
   "execution_count": 4,
   "metadata": {
    "scrolled": true
   },
   "outputs": [
    {
     "name": "stderr",
     "output_type": "stream",
     "text": [
      "D:\\python\\factory\\venv\\lib\\site-packages\\ipykernel_launcher.py:25: DeprecationWarning: The binary mode of fromstring is deprecated, as it behaves surprisingly on unicode inputs. Use frombuffer instead\n"
     ]
    },
    {
     "data": {
      "text/plain": [
       "-1"
      ]
     },
     "execution_count": 4,
     "metadata": {},
     "output_type": "execute_result"
    }
   ],
   "source": [
    "'''\n",
    "取得資料庫圖檔\n",
    "'''\n",
    "import pymysql\n",
    "import cv2\n",
    "import numpy as np\n",
    "\n",
    "# 打开数据库连接\n",
    "db = pymysql.connect(host='127.0.0.1',\n",
    "                     port=3306,\n",
    "                     user='yy_jimmy',\n",
    "                     password='yyjimmy',\n",
    "                     db='yyostech')\n",
    "# 使用 cursor() 方法创建一个游标对象 cursor\n",
    "cursor = db.cursor()\n",
    "# 使用 execute()  方法执行 SQL 查询 \n",
    "cursor.execute(\"SELECT * from user_right where right_id = 0\")\n",
    "# 使用 fetchone() 方法获取单条数据.\n",
    "data = cursor.fetchone()\n",
    "# 关闭数据库连接\n",
    "db.close()\n",
    "\n",
    "frame = data[2]\n",
    "# converting bytestring frame into imshow argument\n",
    "nparr = np.fromstring(frame, np.uint8)\n",
    "frame = cv2.imdecode(nparr, cv2.IMREAD_COLOR)\n",
    "cv2.namedWindow(\"rect\",0)\n",
    "cv2.resizeWindow('rect', 800,500)\n",
    "cv2.imshow('rect', frame)\n",
    "cv2.waitKey(0)"
   ]
  },
  {
   "cell_type": "code",
   "execution_count": 2,
   "metadata": {},
   "outputs": [
    {
     "name": "stdout",
     "output_type": "stream",
     "text": [
      "None\n"
     ]
    }
   ],
   "source": [
    "# mysql建立資料表\n",
    "\n",
    "import pymysql\n",
    " \n",
    "# 連線資料庫\n",
    "db = pymysql.connect(host='127.0.0.1',\n",
    "                     port=3306,\n",
    "                     user='yy_jimmy',\n",
    "                     password='yyjimmy',\n",
    "                     db='yyostech')\n",
    "# 建立連線物件\n",
    "cursor = db.cursor()\n",
    " \n",
    "# 新增資料表\n",
    "# user_right\n",
    "cursor.execute(\"\"\"CREATE TABLE If not exists user_right (`right_id` INT PRIMARY KEY, \n",
    "                                           `menu_id` VARCHAR(255), \n",
    "                                           `menu_image` LONGBLOB) CHARACTER SET=utf8\"\"\")\n",
    "# series_data\n",
    "cursor.execute(\"\"\"CREATE TABLE If not exists series_data (`series_id` VARCHAR(255) PRIMARY KEY, \n",
    "                                            `series_name` VARCHAR(255), \n",
    "                                            `threshold` INT, \n",
    "                                            `germination_percent` FLOAT, \n",
    "                                            `saw_days` INT) CHARACTER SET=utf8\"\"\")\n",
    "# raspi_data\n",
    "cursor.execute(\"\"\"CREATE TABLE If not exists raspi_data (`photo_id` VARCHAR(255) PRIMARY KEY, \n",
    "                                           `image` LONGBLOB, \n",
    "                                           `photo_date` DATETIME) CHARACTER SET=utf8\"\"\")\n",
    "# user_profile\n",
    "cursor.execute(\"\"\"CREATE TABLE If not exists user_profile (`line_id` VARCHAR(255) PRIMARY KEY, \n",
    "                                             `user_name` VARCHAR(255), \n",
    "                                             `right_id` INT,\n",
    "                  FOREIGN KEY (`right_id`) REFERENCES user_right(right_id)) CHARACTER SET=utf8;\"\"\")\n",
    "# process_record\n",
    "cursor.execute(\"\"\"CREATE TABLE If not exists process_record (`process_id` VARCHAR(255) PRIMARY KEY, \n",
    "                                             `series_id` VARCHAR(255), \n",
    "                                             `seed_numbers` VARCHAR(255),\n",
    "                                             `identify_date` DATETIME,\n",
    "                                             `saw_date` DATETIME,                  \n",
    "                 FOREIGN KEY (`series_id`) REFERENCES series_data(series_id)) CHARACTER SET=utf8;\"\"\")\n",
    "# germiantion_record\n",
    "cursor.execute(\"\"\"CREATE TABLE If not exists germiantion_record (`germination_id` VARCHAR(255) PRIMARY KEY, \n",
    "                                                  `process_id` VARCHAR(255),\n",
    "                                                  `photo_id` VARCHAR(255), \n",
    "                                                  `image` LONGBLOB, \n",
    "                                                  `germination_rate` FLOAT,\n",
    "                                                  `sponge_cnt` INT,\n",
    "                  FOREIGN KEY (`photo_id`) REFERENCES raspi_data(photo_id),\n",
    "                  FOREIGN KEY (`process_id`) REFERENCES process_record(process_id)) CHARACTER SET=utf8\"\"\")\n",
    "# sponge_record\n",
    "cursor.execute(\"\"\"CREATE TABLE If not exists sponge_record (`sponge_id` VARCHAR(255) PRIMARY KEY, \n",
    "                                                   `germination_id` VARCHAR(255), \n",
    "                                                   `image` LONGBLOB, \n",
    "                                                   `x_position` int,\n",
    "                                                   `y_position` int,\n",
    "                                                   `plant_percent` FLOAT,\n",
    "                                                   `is_germination` BOOLEAN,\n",
    "                  FOREIGN KEY (`germination_id`) REFERENCES germiantion_record(germination_id)) CHARACTER SET=utf8\"\"\")\n",
    "# artificial_identify\n",
    "cursor.execute(\"\"\"CREATE TABLE If not exists artificial_identify (`artificial_id` VARCHAR(255) PRIMARY KEY, \n",
    "                                                    `sponge_id` VARCHAR(255),\n",
    "                                                    `line_id` VARCHAR(255),\n",
    "                                                    `is_germination` BOOLEAN, \n",
    "                                                    `identify_date` DATETIME, \n",
    "                  FOREIGN KEY (`sponge_id`) REFERENCES sponge_record(sponge_id),\n",
    "                  FOREIGN KEY (`line_id`) REFERENCES user_profile(line_id)) CHARACTER SET=utf8\"\"\")\n",
    "# 確認執行上述指令\n",
    "result = db.commit()\n",
    "# 回傳結果(none為成功)\n",
    "print (result)\n",
    " \n",
    "# 關閉資料庫連線\n",
    "db.close()\n"
   ]
  },
  {
   "cell_type": "code",
   "execution_count": null,
   "metadata": {},
   "outputs": [],
   "source": []
  }
 ],
 "metadata": {
  "kernelspec": {
   "display_name": "Python 3",
   "language": "python",
   "name": "python3"
  },
  "language_info": {
   "codemirror_mode": {
    "name": "ipython",
    "version": 3
   },
   "file_extension": ".py",
   "mimetype": "text/x-python",
   "name": "python",
   "nbconvert_exporter": "python",
   "pygments_lexer": "ipython3",
   "version": "3.7.4"
  }
 },
 "nbformat": 4,
 "nbformat_minor": 4
}
