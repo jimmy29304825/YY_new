{
 "cells": [
  {
   "cell_type": "code",
   "execution_count": 1,
   "metadata": {},
   "outputs": [],
   "source": []
  },
  {
   "cell_type": "code",
   "execution_count": 3,
   "metadata": {
    "scrolled": true
   },
   "outputs": [
    {
     "name": "stdout",
     "output_type": "stream",
     "text": [
      "782509\n"
     ]
    }
   ],
   "source": [
    "import pymysql\n",
    " \n",
    "# 打开数据库连接\n",
    "# db = pymysql.connect(\"10.0.0.200\",\"root\",\"db10326\",\"yyostech\" )\n",
    "db = pymysql.connect(host='10.0.0.200',\n",
    "                     port=3306,\n",
    "                     user='yy_jimmy',\n",
    "                     password='yyjimmy',\n",
    "                     db='yyostech')\n",
    "# 使用 cursor() 方法创建一个游标对象 cursor\n",
    "cursor = db.cursor()\n",
    " \n",
    "# 使用 execute()  方法执行 SQL 查询 \n",
    "cursor.execute(\"SELECT * from raspi_data where photo_id = 'test1234'\")\n",
    "# 使用 fetchone() 方法获取单条数据.\n",
    "data = cursor.fetchone()\n",
    " \n",
    "print(len(data[1]))\n",
    " \n",
    "# 关闭数据库连接\n",
    "db.close()"
   ]
  },
  {
   "cell_type": "code",
   "execution_count": 4,
   "metadata": {},
   "outputs": [
    {
     "data": {
      "text/plain": [
       "tuple"
      ]
     },
     "execution_count": 4,
     "metadata": {},
     "output_type": "execute_result"
    }
   ],
   "source": [
    "type(data)"
   ]
  },
  {
   "cell_type": "code",
   "execution_count": 5,
   "metadata": {},
   "outputs": [
    {
     "name": "stderr",
     "output_type": "stream",
     "text": [
      "D:\\python\\factory\\venv\\lib\\site-packages\\ipykernel_launcher.py:6: DeprecationWarning: The binary mode of fromstring is deprecated, as it behaves surprisingly on unicode inputs. Use frombuffer instead\n",
      "  \n"
     ]
    },
    {
     "data": {
      "text/plain": [
       "-1"
      ]
     },
     "execution_count": 5,
     "metadata": {},
     "output_type": "execute_result"
    }
   ],
   "source": [
    "import cv2\n",
    "import numpy as np\n",
    "\n",
    "frame = data[1]\n",
    "# converting bytestring frame into imshow argument\n",
    "nparr = np.fromstring(frame, np.uint8)\n",
    "frame = cv2.imdecode(nparr, cv2.IMREAD_COLOR)\n",
    "cv2.namedWindow(\"rect\",0)\n",
    "cv2.resizeWindow('rect', 328*2,246*2)\n",
    "cv2.imshow('rect', frame)\n",
    "cv2.waitKey(0)"
   ]
  },
  {
   "cell_type": "code",
   "execution_count": 43,
   "metadata": {},
   "outputs": [
    {
     "data": {
      "text/plain": [
       "'[[[ 78  35  42]\\n  [ 73  30  37]\\n  [ 71  29  33]\\n  ...\\n  [192 119  76]\\n  [191 113  75]\\n  [191 113  75]]\\n\\n [[ 83  41  45]\\n  [ 79  37  41]\\n  [ 69  27  31]\\n  ...\\n  [189 116  73]\\n  [190 115  75]\\n  [191 116  76]]\\n\\n [[ 79  39  40]\\n  [ 77  37  37]\\n  [ 78  36  37]\\n  ...\\n  [189 118  74]\\n  [195 122  79]\\n  [201 128  85]]\\n\\n ...\\n\\n [[212 138  77]\\n  [214 140  79]\\n  [210 136  75]\\n  ...\\n  [211 136  97]\\n  [201 125  89]\\n  [205 129  93]]\\n\\n [[212 137  80]\\n  [213 138  81]\\n  [210 134  76]\\n  ...\\n  [204 128  92]\\n  [203 127  93]\\n  [207 131  97]]\\n\\n [[208 133  78]\\n  [208 133  78]\\n  [207 130  74]\\n  ...\\n  [200 124  88]\\n  [201 125  93]\\n  [202 126  94]]]'"
      ]
     },
     "execution_count": 43,
     "metadata": {},
     "output_type": "execute_result"
    }
   ],
   "source": [
    "data[0][2]"
   ]
  },
  {
   "cell_type": "code",
   "execution_count": 19,
   "metadata": {},
   "outputs": [
    {
     "name": "stdout",
     "output_type": "stream",
     "text": [
      "None\n"
     ]
    }
   ],
   "source": [
    "# mysql建立資料表\n",
    "\n",
    "import pymysql\n",
    " \n",
    "# 連線資料庫\n",
    "db = pymysql.connect(host='10.0.0.200',\n",
    "                     port=3306,\n",
    "                     user='yy_jimmy',\n",
    "                     password='yyjimmy',\n",
    "                     db='yyostech')\n",
    "# 建立連線物件\n",
    "cursor = db.cursor()\n",
    " \n",
    "# 新增資料表\n",
    "# user_right\n",
    "cursor.execute(\"\"\"CREATE TABLE user_right (`right_id` INT PRIMARY KEY, \n",
    "                                           `menu_id` VARCHAR(255), \n",
    "                                           `menu_image` LONGBLOB)\"\"\")\n",
    "# series_data\n",
    "cursor.execute(\"\"\"CREATE TABLE series_data (`series_id` VARCHAR(255) PRIMARY KEY, \n",
    "                                            `series_name` VARCHAR(255), \n",
    "                                            `threshold` INT, \n",
    "                                            `germination_percent` FLOAT, \n",
    "                                            `saw_days` INT)\"\"\")\n",
    "# raspi_data\n",
    "cursor.execute(\"\"\"CREATE TABLE raspi_data (`photo_id` VARCHAR(255) PRIMARY KEY, \n",
    "                                           `iamge` LONGBLOB, \n",
    "                                           `photo_date` DATETIME)\"\"\")\n",
    "# user_profile\n",
    "cursor.execute(\"\"\"CREATE TABLE user_profile (`line_id` VARCHAR(255) PRIMARY KEY, \n",
    "                                             `user_name` VARCHAR(255), \n",
    "                                             `right_id` INT,\n",
    "                  FOREIGN KEY (`right_id`) REFERENCES user_right(right_id));\"\"\")\n",
    "# germiantion_total\n",
    "cursor.execute(\"\"\"CREATE TABLE germiantion_total (`germination_id` VARCHAR(255) PRIMARY KEY, \n",
    "                                                  `photo_id` VARCHAR(255), \n",
    "                                                  `image` LONGBLOB, \n",
    "                                                  `threshold` INT, \n",
    "                                                  `germination_percent` FLOAT, \n",
    "                                                  `identify_date` DATETIME,\n",
    "                                                  `saw_date` DATE,\n",
    "                                                  `germination_rate` FLOAT,\n",
    "                                                  `sponge_cnt` INT,\n",
    "                  FOREIGN KEY (`photo_id`) REFERENCES raspi_data(photo_id))\"\"\")\n",
    "# germination_single\n",
    "cursor.execute(\"\"\"CREATE TABLE germination_single (`sponge_id` VARCHAR(255) PRIMARY KEY, \n",
    "                                                   `germination_id` VARCHAR(255), \n",
    "                                                   `image` LONGBLOB, \n",
    "                                                   `plant_percent` FLOAT,\n",
    "                                                   `is_germination` BOOLEAN,\n",
    "                  FOREIGN KEY (`germination_id`) REFERENCES germiantion_total(germination_id))\"\"\")\n",
    "# artificial_identify\n",
    "cursor.execute(\"\"\"CREATE TABLE artificial_identify (`artificial_id` VARCHAR(255) PRIMARY KEY, \n",
    "                                                    `sponge_id` VARCHAR(255),\n",
    "                                                    `is_germination` BOOLEAN, \n",
    "                                                    `identify_date` DATETIME, \n",
    "                                                    `user` VARCHAR(255),\n",
    "                  FOREIGN KEY (`sponge_id`) REFERENCES germination_single(sponge_id))\"\"\")\n",
    "# 確認執行上述指令\n",
    "result = db.commit()\n",
    "# 回傳結果(none為成功)\n",
    "print (result)\n",
    " \n",
    "# 關閉資料庫連線\n",
    "db.close()\n"
   ]
  },
  {
   "cell_type": "code",
   "execution_count": 22,
   "metadata": {},
   "outputs": [
    {
     "name": "stdout",
     "output_type": "stream",
     "text": [
      "(('Ua88d33cc15e1f629a54b415df99c2d62', '曾韋翔', 0),)\n"
     ]
    }
   ],
   "source": [
    "import pymysql\n",
    " \n",
    "# 打开数据库连接\n",
    "# db = pymysql.connect(\"10.0.0.200\",\"root\",\"db10326\",\"yyostech\" )\n",
    "db = pymysql.connect(host='10.0.0.200',\n",
    "                     port=3306,\n",
    "                     user='yy_jimmy',\n",
    "                     password='yyjimmy',\n",
    "                     db='yyostech')\n",
    "# 使用 cursor() 方法创建一个游标对象 cursor\n",
    "cursor = db.cursor()\n",
    " \n",
    "# 使用 execute()  方法执行 SQL 查询 \n",
    "cursor.execute(\"select * from user_profile\")\n",
    " \n",
    "# 使用 fetchone() 方法获取单条数据.\n",
    "data = cursor.fetchall()\n",
    " \n",
    "print(data)\n",
    " \n",
    "# 关闭数据库连接\n",
    "db.close()"
   ]
  },
  {
   "cell_type": "code",
   "execution_count": 21,
   "metadata": {},
   "outputs": [
    {
     "data": {
      "text/plain": [
       "(('artificial_identify',),\n",
       " ('germiantion_total',),\n",
       " ('germination_single',),\n",
       " ('raspi_data',),\n",
       " ('series_data',),\n",
       " ('user_profile',),\n",
       " ('user_right',))"
      ]
     },
     "execution_count": 21,
     "metadata": {},
     "output_type": "execute_result"
    }
   ],
   "source": [
    "data"
   ]
  },
  {
   "cell_type": "code",
   "execution_count": 20,
   "metadata": {},
   "outputs": [
    {
     "name": "stdout",
     "output_type": "stream",
     "text": [
      "None\n"
     ]
    }
   ],
   "source": [
    "# mysql建立資料表\n",
    "\n",
    "import pymysql\n",
    " \n",
    "# 連線資料庫\n",
    "db = pymysql.connect(host='10.0.0.200',\n",
    "                     port=3306,\n",
    "                     user='yy_jimmy',\n",
    "                     password='yyjimmy',\n",
    "                     db='yyostech')\n",
    "# 建立連線物件\n",
    "cursor = db.cursor()\n",
    " \n",
    "with open('./lineMenu1.png', 'rb') as file:\n",
    "    binaryData = file.read()\n",
    "# print(len(binaryData))\n",
    "menu_id = 'richmenu-6273c8438983aceac1d6ec86e304c169'\n",
    "# user_right\n",
    "\n",
    "sql_insert_blob_query = \"\"\"INSERT INTO user_right (`right_id`, `menu_id`, `menu_image`) VALUES (%s, %s, %s)\"\"\"\n",
    "insert_blob_tuple = (0, menu_id, binaryData)\n",
    "result = cursor.execute(sql_insert_blob_query, insert_blob_tuple)\n",
    "\n",
    "# 確認執行上述指令\n",
    "result = db.commit()\n",
    "\n",
    "# 回傳結果(none為成功)\n",
    "print (result)\n",
    " \n",
    "# 關閉資料庫連線\n",
    "db.close()"
   ]
  },
  {
   "cell_type": "code",
   "execution_count": 34,
   "metadata": {},
   "outputs": [
    {
     "name": "stdout",
     "output_type": "stream",
     "text": [
      "<class 'NoneType'>\n"
     ]
    }
   ],
   "source": [
    "def get_menu_id(user_id):\n",
    "    # 連線資料庫\n",
    "    db = pymysql.connect(host='10.0.0.200',\n",
    "                         port=3306,\n",
    "                         user='yy_jimmy',\n",
    "                         password='yyjimmy',\n",
    "                         db='yyostech')\n",
    "    # 建立連線物件\n",
    "    cursor = db.cursor()\n",
    "    # user_profile\n",
    "    sql_insert_blob_query = \"\"\"select b.menu_id from user_profile a inner join user_right b on a.right_id = b.right_id and a.line_id = %s\"\"\"\n",
    "    insert_blob_tuple = (user_id, )\n",
    "    cursor.execute(sql_insert_blob_query, insert_blob_tuple)\n",
    "    data = cursor.fetchone()\n",
    "    # 關閉資料庫連線\n",
    "    db.close()\n",
    "    return data\n",
    "\n",
    "aaa = get_menu_id('Ua88d33cc15e1f629a54b415df99c2d6212')\n",
    "print(aaa)"
   ]
  },
  {
   "cell_type": "code",
   "execution_count": null,
   "metadata": {},
   "outputs": [],
   "source": [
    "db = pymysql.connect(host='10.0.0.200',\n",
    "                         port=3306,\n",
    "                         user='yy_jimmy',\n",
    "                         password='yyjimmy',\n",
    "                         db='yyostech')\n",
    "# 建立連線物件\n",
    "cursor = db.cursor()\n",
    "# user_profile\n",
    "sql_insert_blob_query = \"\"\"select\"\"\"\n",
    "cursor.execute(sql_insert_blob_query)\n",
    "data = cursor.fetchone()\n",
    "# 關閉資料庫連線\n",
    "db.close()\n",
    "return data[0]"
   ]
  }
 ],
 "metadata": {
  "kernelspec": {
   "display_name": "Python 3",
   "language": "python",
   "name": "python3"
  },
  "language_info": {
   "codemirror_mode": {
    "name": "ipython",
    "version": 3
   },
   "file_extension": ".py",
   "mimetype": "text/x-python",
   "name": "python",
   "nbconvert_exporter": "python",
   "pygments_lexer": "ipython3",
   "version": "3.7.4"
  }
 },
 "nbformat": 4,
 "nbformat_minor": 4
}
