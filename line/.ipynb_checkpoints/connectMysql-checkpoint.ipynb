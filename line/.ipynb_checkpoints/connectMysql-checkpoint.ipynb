{
 "cells": [
  {
   "cell_type": "code",
   "execution_count": 5,
   "metadata": {},
   "outputs": [
    {
     "name": "stdout",
     "output_type": "stream",
     "text": [
      "None\n"
     ]
    }
   ],
   "source": [
    "'''\n",
    "# 建立SQL連線權限\n",
    "\n",
    "CREATE USER 'yy_jimmy'@'127.0.0.1' IDENTIFIED BY 'yyjimmy';\n",
    "GRANT ALL PRIVILEGES ON yyostech.* TO 'yy_jimmy'@'127.0.0.1';\n",
    "FLUSH PRIVILEGES;\n",
    "'''\n",
    "\n",
    "# 測試連線\n",
    "import pymysql\n",
    "# 連線資料庫\n",
    "db = pymysql.connect(host='127.0.0.1',\n",
    "                     port=3306,\n",
    "                     user='yy_jimmy',\n",
    "                     password='yyjimmy',\n",
    "                     db='yyostech')\n",
    "# 建立連線物件\n",
    "cursor = db.cursor()\n",
    "# 新增資料表\n",
    "# user_right\n",
    "cursor.execute(\"\"\"select `line_id` from user_profile where `line_id` = '1234'\"\"\")\n",
    "# 使用 fetchone() 方法获取单条数据.\n",
    "data = cursor.fetchone()\n",
    " \n",
    "print(data)\n",
    " \n",
    "# 关闭数据库连接\n",
    "db.close()"
   ]
  },
  {
   "cell_type": "code",
   "execution_count": 3,
   "metadata": {},
   "outputs": [
    {
     "name": "stdout",
     "output_type": "stream",
     "text": [
      "None\n"
     ]
    },
    {
     "name": "stderr",
     "output_type": "stream",
     "text": [
      "D:\\python\\factory\\venv\\lib\\site-packages\\pymysql\\cursors.py:170: Warning: (1300, \"Invalid utf8mb4 character string: '89504E'\")\n",
      "  result = self._query(query)\n"
     ]
    }
   ],
   "source": [
    "# 寫入資料\n",
    "import pymysql\n",
    " \n",
    "# 連線資料庫\n",
    "db = pymysql.connect(host='127.0.0.1',\n",
    "                     port=3306,\n",
    "                     user='yy_jimmy',\n",
    "                     password='yyjimmy',\n",
    "                     db='yyostech')\n",
    "# 建立連線物件\n",
    "cursor = db.cursor()\n",
    "sql = \"\"\"INSERT INTO user_right (right_id, menu_id, menu_image) VALUES(%s, %s, %s);\"\"\"\n",
    "\n",
    "right_id = 0\n",
    "menu_id = 'richmenu-6273c8438983aceac1d6ec86e304c169'\n",
    "with open('./lineMenu1.png', 'rb') as file:\n",
    "    menu_image = file.read()\n",
    "    \n",
    "data = (right_id, menu_id, menu_image)\n",
    "cursor.execute(sql, data)\n",
    "# 確認執行上述指令\n",
    "result = db.commit()\n",
    "# 回傳結果(none為成功)\n",
    "print (result)\n",
    " \n",
    "# 關閉資料庫連線\n",
    "db.close()"
   ]
  },
  {
   "cell_type": "code",
   "execution_count": 4,
   "metadata": {
    "scrolled": true
   },
   "outputs": [
    {
     "name": "stdout",
     "output_type": "stream",
     "text": [
      "0.0\n"
     ]
    },
    {
     "name": "stderr",
     "output_type": "stream",
     "text": [
      "D:\\python\\factory\\venv\\lib\\site-packages\\ipykernel_launcher.py:25: DeprecationWarning: The binary mode of fromstring is deprecated, as it behaves surprisingly on unicode inputs. Use frombuffer instead\n"
     ]
    },
    {
     "data": {
      "text/plain": [
       "27"
      ]
     },
     "execution_count": 4,
     "metadata": {},
     "output_type": "execute_result"
    }
   ],
   "source": [
    "'''\n",
    "取得資料庫圖檔\n",
    "'''\n",
    "import pymysql\n",
    "import cv2\n",
    "import numpy as np\n",
    "\n",
    "# 打开数据库连接\n",
    "db = pymysql.connect(host='127.0.0.1',\n",
    "                     port=3306,\n",
    "                     user='yy_jimmy',\n",
    "                     password='yyjimmy',\n",
    "                     db='yyostech')\n",
    "# 使用 cursor() 方法创建一个游标对象 cursor\n",
    "cursor = db.cursor()\n",
    "# 使用 execute()  方法执行 SQL 查询 \n",
    "cursor.execute(\"SELECT a.image, a.plant_percent from sponge_record a inner join artificial_identify b on a.sponge_id = b.sponge_id where artificial_id = 29\")\n",
    "# 使用 fetchone() 方法获取单条数据.\n",
    "data = cursor.fetchone()\n",
    "# 关闭数据库连接\n",
    "db.close()\n",
    "print(data[1])\n",
    "frame = data[0]\n",
    "# converting bytestring frame into imshow argument\n",
    "nparr = np.fromstring(frame, np.uint8)\n",
    "frame = cv2.imdecode(nparr, cv2.IMREAD_COLOR)\n",
    "cv2.namedWindow(\"rect\",0)\n",
    "cv2.resizeWindow('rect', 800,500)\n",
    "cv2.imshow('rect', frame)\n",
    "cv2.waitKey(0)"
   ]
  },
  {
   "cell_type": "code",
   "execution_count": 2,
   "metadata": {},
   "outputs": [
    {
     "name": "stdout",
     "output_type": "stream",
     "text": [
      "None\n"
     ]
    }
   ],
   "source": [
    "# mysql建立資料表\n",
    "\n",
    "import pymysql\n",
    " \n",
    "# 連線資料庫\n",
    "db = pymysql.connect(host='127.0.0.1',\n",
    "                     port=3306,\n",
    "                     user='yy_jimmy',\n",
    "                     password='yyjimmy',\n",
    "                     db='yyostech')\n",
    "# 建立連線物件\n",
    "cursor = db.cursor()\n",
    " \n",
    "# 新增資料表\n",
    "# user_right\n",
    "cursor.execute(\"\"\"CREATE TABLE If not exists user_right (`right_id` INT PRIMARY KEY, \n",
    "                                           `menu_id` VARCHAR(255), \n",
    "                                           `menu_image` LONGBLOB) CHARACTER SET=utf8\"\"\")\n",
    "# series_data\n",
    "cursor.execute(\"\"\"CREATE TABLE If not exists series_data (`series_id` VARCHAR(255) PRIMARY KEY, \n",
    "                                            `series_name` VARCHAR(255), \n",
    "                                            `image_url` VARCHAR(255), \n",
    "                                            `threshold` INT, \n",
    "                                            `germination_percent` FLOAT, \n",
    "                                            `saw_days` INT) CHARACTER SET=utf8\"\"\")\n",
    "# raspi_data\n",
    "cursor.execute(\"\"\"CREATE TABLE If not exists raspi_data (`photo_id` VARCHAR(255) PRIMARY KEY, \n",
    "                                           `image` LONGBLOB, \n",
    "                                           `photo_date` DATETIME) CHARACTER SET=utf8\"\"\")\n",
    "# user_profile\n",
    "cursor.execute(\"\"\"CREATE TABLE If not exists user_profile (`line_id` VARCHAR(255) PRIMARY KEY, \n",
    "                                             `user_name` VARCHAR(255), \n",
    "                                             `right_id` INT,\n",
    "                  FOREIGN KEY (`right_id`) REFERENCES user_right(right_id)) CHARACTER SET=utf8;\"\"\")\n",
    "# process_record\n",
    "cursor.execute(\"\"\"CREATE TABLE If not exists process_record (`process_id` VARCHAR(255) PRIMARY KEY, \n",
    "                                             `series_id` VARCHAR(255), \n",
    "                                             `seed_numbers` VARCHAR(255),\n",
    "                                             `identify_date` DATETIME,\n",
    "                                             `saw_date` DATETIME,                  \n",
    "                 FOREIGN KEY (`series_id`) REFERENCES series_data(series_id)) CHARACTER SET=utf8;\"\"\")\n",
    "# germiantion_record\n",
    "cursor.execute(\"\"\"CREATE TABLE If not exists germination_record (`germination_id` VARCHAR(255) PRIMARY KEY, \n",
    "                                                  `process_id` VARCHAR(255),\n",
    "                                                  `photo_id` VARCHAR(255), \n",
    "                                                  `image` LONGBLOB, \n",
    "                                                  `germination_rate` FLOAT,\n",
    "                                                  `sponge_cnt` INT,\n",
    "                  FOREIGN KEY (`photo_id`) REFERENCES raspi_data(photo_id),\n",
    "                  FOREIGN KEY (`process_id`) REFERENCES process_record(process_id)) CHARACTER SET=utf8\"\"\")\n",
    "# sponge_record\n",
    "cursor.execute(\"\"\"CREATE TABLE If not exists sponge_record (`sponge_id` INT PRIMARY KEY AUTO_INCREMENT, \n",
    "                                                   `germination_id` VARCHAR(255), \n",
    "                                                   `image` LONGBLOB, \n",
    "                                                   `x_position` int,\n",
    "                                                   `y_position` int,\n",
    "                                                   `plant_percent` FLOAT,\n",
    "                                                   `is_germination` BOOLEAN,\n",
    "                  FOREIGN KEY (`germination_id`) REFERENCES germination_record(germination_id)) CHARACTER SET=utf8\"\"\")\n",
    "# artificial_identify\n",
    "cursor.execute(\"\"\"CREATE TABLE If not exists artificial_identify (`artificial_id` INT PRIMARY KEY AUTO_INCREMENT, \n",
    "                                                    `sponge_id` INT,\n",
    "                                                    `line_id` VARCHAR(255),\n",
    "                                                    `is_germination` BOOLEAN, \n",
    "                                                    `identify_date` DATETIME, \n",
    "                  FOREIGN KEY (`sponge_id`) REFERENCES sponge_record(sponge_id),\n",
    "                  FOREIGN KEY (`line_id`) REFERENCES user_profile(line_id)) CHARACTER SET=utf8\"\"\")\n",
    "# 確認執行上述指令\n",
    "result = db.commit()\n",
    "# 回傳結果(none為成功)\n",
    "print (result)\n",
    " \n",
    "# 關閉資料庫連線\n",
    "db.close()\n"
   ]
  },
  {
   "cell_type": "code",
   "execution_count": 1,
   "metadata": {},
   "outputs": [],
   "source": [
    "# 呼叫樹莓派執行拍照並回傳資料的動作\n",
    "import paramiko\n",
    "\n",
    "def par(photo_ids):\n",
    "    ssh = paramiko.SSHClient()\n",
    "    ssh.set_missing_host_key_policy(paramiko.AutoAddPolicy())\n",
    "    ssh.connect(\"192.168.0.30\",22,\"pi\", \"Jimmy8193026\")  # 網路連線設定\n",
    "    stdin, stdout, stderr = ssh.exec_command(\"python3 /home/pi/Desktop/test.py %s\" % ids)  # 呼叫執行檔並傳送參數\n",
    "    paramiko_result = stdout.readlines()[0]  # 回傳產出結果\n",
    "    ssh.close()\n",
    "    return paramiko_result"
   ]
  },
  {
   "cell_type": "code",
   "execution_count": 14,
   "metadata": {},
   "outputs": [
    {
     "data": {
      "text/plain": [
       "[['1G1', '綠火焰', 180, 1.4],\n",
       " ['1G4', '奶油波士頓', 185, 2.0],\n",
       " ['1G7', '蘿蔓', 180, 2.1],\n",
       " ['1R7', '紅蘿蔓', 180, 3.0],\n",
       " ['1RB', '紅寶石', 170, 3.0],\n",
       " ['2GD', '羽衣甘藍', 180, 4.0],\n",
       " ['3G1', '芝麻葉', 180, 1.5],\n",
       " ['3G2', '蘿勒', 180, 0.8]]"
      ]
     },
     "execution_count": 14,
     "metadata": {},
     "output_type": "execute_result"
    }
   ],
   "source": [
    "# 品種參數\n",
    "dict1 = [['1G1', '綠火焰',180, 1.4], \n",
    "         ['1G4', '奶油波士頓', 185, 2.0], \n",
    "         ['1G7', '蘿蔓', 180, 2.1], \n",
    "         ['1R7', '紅蘿蔓', 180, 3.0], \n",
    "         ['1RB', '紅寶石', 170, 3.0], \n",
    "         ['2GD', '羽衣甘藍', 180, 4.0], \n",
    "         ['3G1', '芝麻葉', 180, 1.5], \n",
    "         ['3G2', '蘿勒', 180, 0.8]]\n",
    "dict1"
   ]
  },
  {
   "cell_type": "code",
   "execution_count": 15,
   "metadata": {},
   "outputs": [
    {
     "name": "stdout",
     "output_type": "stream",
     "text": [
      "None\n"
     ]
    }
   ],
   "source": [
    "# 寫入資料\n",
    "import pymysql\n",
    " \n",
    "# 連線資料庫\n",
    "db = pymysql.connect(host='127.0.0.1',\n",
    "                     port=3306,\n",
    "                     user='yy_jimmy',\n",
    "                     password='yyjimmy',\n",
    "                     db='yyostech')\n",
    "# 建立連線物件\n",
    "cursor = db.cursor()\n",
    "sql = \"\"\"INSERT INTO series_data (series_id, series_name, threshold, germination_percent, saw_days) \n",
    "                                    VALUES(%s, %s, %s, %s, %s);\"\"\"\n",
    "for i in dict1:\n",
    "    data = (i[0], i[1], i[2], i[3], 6)\n",
    "    cursor.execute(sql, data)\n",
    "# 確認執行上述指令\n",
    "result = db.commit()\n",
    "# 回傳結果(none為成功)\n",
    "print (result)\n",
    " \n",
    "# 關閉資料庫連線\n",
    "db.close()"
   ]
  },
  {
   "cell_type": "code",
   "execution_count": 179,
   "metadata": {},
   "outputs": [],
   "source": [
    "import pymysql\n",
    "import cv2\n",
    "import numpy as np\n",
    "\n",
    "\n",
    "class connect():\n",
    "    def __init__(self, ip, port, username, password, database):\n",
    "        self.ip = ip\n",
    "        self.port = port\n",
    "        self.username = username\n",
    "        self.password = password\n",
    "        self.database = database\n",
    "        \n",
    "    def connect_DB(self):\n",
    "        db = pymysql.connect(host=self.ip,\n",
    "                             port=self.port,\n",
    "                             user=self.username,\n",
    "                             password=self.password,\n",
    "                             db=self.database)\n",
    "        cursor = db.cursor()\n",
    "        return db, cursor\n",
    "    \n",
    "    \n",
    "    def convert_image_to_byte(self, image):\n",
    "        is_success, im_buf_arr = cv2.imencode(\".jpg\", image)\n",
    "        byte_im = im_buf_arr.tobytes()\n",
    "        return byte_im\n",
    "    \n",
    "    \n",
    "    def get_series(self):\n",
    "        try:\n",
    "            db, cursor = self.connect_DB()\n",
    "            cursor.execute('''select * from series_data''')\n",
    "            series_data = cursor.fetchall()\n",
    "        finally:\n",
    "            db.close()\n",
    "        return series_data\n",
    "        \n",
    "        \n",
    "    def save_process(self, gerData):\n",
    "        try:\n",
    "            db, cursor = self.connect_DB()\n",
    "            sql = \"\"\"INSERT INTO process_record (process_id, series_id, seed_numbers, identify_date, saw_date) \n",
    "                                        VALUES(%s, %s, %s, %s, %s);\"\"\"\n",
    "            data = (gerData['process_id'], gerData['series_id'], gerData['seed_numbers'], gerData['identify_date'], gerData['saw_date'])\n",
    "            cursor.execute(sql, data)\n",
    "            result = db.commit()\n",
    "        finally:\n",
    "            db.close()\n",
    "        return result\n",
    "    \n",
    "        \n",
    "    def get_raspi_data(self, photo_id):\n",
    "        try:\n",
    "            db, cursor = self.connect_DB()\n",
    "            cursor.execute(\"SELECT * from raspi_data where photo_id = \\'%s\\'\" % photo_id)\n",
    "            data = cursor.fetchone()\n",
    "            frame = data[1]\n",
    "            nparr = np.fromstring(frame, np.uint8)\n",
    "            frame = cv2.imdecode(nparr, cv2.IMREAD_COLOR)\n",
    "            previewSize = (int(round(frame.shape[1]/15, 0)), int(round(frame.shape[0]/15, 0)))\n",
    "            previewImage = cv2.resize(frame, previewSize)\n",
    "            cv2.imwrite(\".\\YY\\preview.jpg\", previewImage)\n",
    "        finally:\n",
    "            db.close()\n",
    "        return frame\n",
    "    \n",
    "    \n",
    "    def save_germination_record(self, germination_record, result_list):\n",
    "        try:\n",
    "            db, cursor = self.connect_DB()\n",
    "            germination_record[3] = self.convert_image_to_byte(germination_record[3])\n",
    "            sql_germination = \"\"\"INSERT INTO germination_record (germination_id, process_id, photo_id, image, germination_rate, sponge_cnt) \n",
    "                                        VALUES(%s, %s, %s, %s, %s, %s);\"\"\"\n",
    "            cursor.execute(sql_germination, tuple(germination_record))\n",
    "            sql_sponge = \"\"\"INSERT INTO sponge_record (germination_id, x_position, y_position, plant_percent, is_germination, image) \n",
    "                                        VALUES(%s, %s, %s, %s, %s, %s);\"\"\"\n",
    "            germination_id = germination_record[0]\n",
    "            for i in result_list:\n",
    "                i[4] = self.convert_image_to_byte(i[4])\n",
    "                cursor.execute(sql_sponge, (germination_id, ) + tuple(i))\n",
    "            result = db.commit()\n",
    "        finally:\n",
    "            db.close()\n",
    "        return result\n",
    "    \n",
    "    \n",
    "    def get_result(self, process_id):\n",
    "        try:\n",
    "            db, cursor = self.connect_DB()\n",
    "            cursor.execute('''select a.process_id, \n",
    "                                count(distinct b.germination_id) as germination_cnt, \n",
    "                                count(distinct c.sponge_id) as sponge_cnt, \n",
    "                                count(if(is_germination = 1, 1, null)) as is_ger, \n",
    "                                count(if(is_germination = 0, 1, null)) as no_ger,\n",
    "                                round((count(if(is_germination = 0, 1, null)) / count(distinct c.sponge_id))*100, 2) as percent\n",
    "                                from process_record a\n",
    "                                inner join germination_record b on a.process_id = b.process_id\n",
    "                                inner join sponge_record c on c.germination_id = b.germination_id\n",
    "                                where a.process_id = %s\n",
    "                                group by a.process_id\n",
    "                                ''' % repr(process_id))\n",
    "            process_result = cursor.fetchone()\n",
    "        finally:\n",
    "            db.close()\n",
    "        return process_result\n",
    "    \n",
    "    "
   ]
  },
  {
   "cell_type": "code",
   "execution_count": 173,
   "metadata": {},
   "outputs": [
    {
     "data": {
      "text/plain": [
       "(('1G1', '綠火焰', 180, 1.4, 6),\n",
       " ('1G4', '奶油波士頓', 185, 2.0, 6),\n",
       " ('1G7', '蘿蔓', 180, 2.1, 6),\n",
       " ('1R7', '紅蘿蔓', 180, 3.0, 6),\n",
       " ('1RB', '紅寶石', 170, 3.0, 6),\n",
       " ('2GD', '羽衣甘藍', 180, 4.0, 6),\n",
       " ('3G1', '芝麻葉', 180, 1.5, 6),\n",
       " ('3G2', '蘿勒', 180, 0.8, 6))"
      ]
     },
     "execution_count": 173,
     "metadata": {},
     "output_type": "execute_result"
    }
   ],
   "source": [
    "# 取得品種資料\n",
    "a = connect('127.0.0.1', 3306, 'yy_jimmy', 'yyjimmy', 'yyostech')\n",
    "series_data = a.get_series()\n",
    "series_data"
   ]
  },
  {
   "cell_type": "code",
   "execution_count": 174,
   "metadata": {},
   "outputs": [],
   "source": [
    "# 儲存操作流程\n",
    "from datetime import datetime\n",
    "gerData = {'process_id': 'test1235', \n",
    "           'series_id': '1G1', \n",
    "           'seed_numbers': '1234567890', \n",
    "           'identify_date': datetime.now().strftime(\"%Y-%m-%d %H:%M:%S\"), \n",
    "           'saw_date': '2020-12-20'}\n",
    "gerData\n",
    "a = connect('127.0.0.1', 3306, 'yy_jimmy', 'yyjimmy', 'yyostech')\n",
    "a.save_process(gerData)"
   ]
  },
  {
   "cell_type": "code",
   "execution_count": 180,
   "metadata": {
    "scrolled": true
   },
   "outputs": [
    {
     "name": "stderr",
     "output_type": "stream",
     "text": [
      "D:\\python\\factory\\venv\\lib\\site-packages\\ipykernel_launcher.py:59: DeprecationWarning: The binary mode of fromstring is deprecated, as it behaves surprisingly on unicode inputs. Use frombuffer instead\n"
     ]
    },
    {
     "data": {
      "text/plain": [
       "-1"
      ]
     },
     "execution_count": 180,
     "metadata": {},
     "output_type": "execute_result"
    }
   ],
   "source": [
    "# 取得pi的照片\n",
    "photo_id = 'testphoto12345'\n",
    "a = connect('127.0.0.1', 3306, 'yy_jimmy', 'yyjimmy', 'yyostech')\n",
    "\n",
    "image = a.get_raspi_data(photo_id)  \n",
    "\n",
    "previewSize = (int(round(image.shape[1]/15, 0)), int(round(image.shape[0]/15, 0)))\n",
    "cv2.namedWindow(\"rect\",0)\n",
    "cv2.resizeWindow('rect', previewSize[0],previewSize[1])\n",
    "cv2.imshow('rect', image)\n",
    "cv2.waitKey(0)"
   ]
  },
  {
   "cell_type": "code",
   "execution_count": 181,
   "metadata": {
    "scrolled": true
   },
   "outputs": [],
   "source": [
    "# 儲存結果\n",
    "result_list = [[1, 2, 0.0, 0, image], [2, 3, 2.9, 1, image], [5, 6, 3.8, 1, image]]\n",
    "ger_record = ['gertest05', 'test1235', 'testphoto12345', image, 98.7, 400]\n",
    "a = connect('127.0.0.1', 3306, 'yy_jimmy', 'yyjimmy', 'yyostech')\n",
    "a.save_germination_record(ger_record, result_list)"
   ]
  },
  {
   "cell_type": "code",
   "execution_count": 182,
   "metadata": {},
   "outputs": [
    {
     "data": {
      "text/plain": [
       "('test1235', 1, 3, 2, 1, Decimal('33.33'))"
      ]
     },
     "execution_count": 182,
     "metadata": {},
     "output_type": "execute_result"
    }
   ],
   "source": [
    "# 取出本流程統整結果\n",
    "a = connect('127.0.0.1', 3306, 'yy_jimmy', 'yyjimmy', 'yyostech')\n",
    "process_id = 'test1235'\n",
    "result = a.get_result(process_id)\n",
    "result"
   ]
  },
  {
   "cell_type": "code",
   "execution_count": 7,
   "metadata": {},
   "outputs": [
    {
     "name": "stdout",
     "output_type": "stream",
     "text": [
      "作物編號: 3G1\n",
      "閾值參數: 170\n",
      "判斷條件: 3.0\n",
      "結果暫存清單: 共0筆數據(詳細請看self.result_list)\n"
     ]
    }
   ],
   "source": [
    "from yyGermination import connect, par, germination\n",
    "connect = connect('127.0.0.1', 3306, 'yy_jimmy', 'yyjimmy', 'yyostech')\n",
    "par = par(\"192.168.0.30\",22,\"pi\", \"Jimmy8193026\")\n",
    "germination = germination('3G1', 170 ,3.0)\n",
    "print(germination)"
   ]
  },
  {
   "cell_type": "code",
   "execution_count": 6,
   "metadata": {},
   "outputs": [
    {
     "name": "stdout",
     "output_type": "stream",
     "text": [
      "['OK\\n']\n"
     ]
    },
    {
     "data": {
      "text/plain": [
       "-1"
      ]
     },
     "execution_count": 6,
     "metadata": {},
     "output_type": "execute_result"
    }
   ],
   "source": [
    "import cv2\n",
    "photo_id = 'test0326'\n",
    "par.connect_raspi(photo_id)\n",
    "image = connect.get_raspi_data(photo_id)\n",
    "previewSize = (int(round(image.shape[1]/15, 0)), int(round(image.shape[0]/15, 0)))\n",
    "cv2.namedWindow(\"rect\",0)\n",
    "cv2.resizeWindow('rect', previewSize[0],previewSize[1])\n",
    "cv2.imshow('rect', image)\n",
    "cv2.waitKey(0)"
   ]
  },
  {
   "cell_type": "code",
   "execution_count": 8,
   "metadata": {},
   "outputs": [
    {
     "data": {
      "text/plain": [
       "(('1G1', '綠火焰', 180, 1.4, 6),\n",
       " ('1G4', '奶油波士頓', 185, 2.0, 6),\n",
       " ('1G7', '蘿蔓', 180, 2.1, 6),\n",
       " ('1R7', '紅蘿蔓', 180, 3.0, 6),\n",
       " ('1RB', '紅寶石', 170, 3.0, 6),\n",
       " ('2GD', '羽衣甘藍', 180, 4.0, 6),\n",
       " ('3G1', '芝麻葉', 180, 1.5, 6),\n",
       " ('3G2', '蘿勒', 180, 0.8, 6))"
      ]
     },
     "execution_count": 8,
     "metadata": {},
     "output_type": "execute_result"
    }
   ],
   "source": [
    "series = connect.get_series()\n",
    "series"
   ]
  }
 ],
 "metadata": {
  "kernelspec": {
   "display_name": "Python 3",
   "language": "python",
   "name": "python3"
  },
  "language_info": {
   "codemirror_mode": {
    "name": "ipython",
    "version": 3
   },
   "file_extension": ".py",
   "mimetype": "text/x-python",
   "name": "python",
   "nbconvert_exporter": "python",
   "pygments_lexer": "ipython3",
   "version": "3.7.4"
  }
 },
 "nbformat": 4,
 "nbformat_minor": 4
}
