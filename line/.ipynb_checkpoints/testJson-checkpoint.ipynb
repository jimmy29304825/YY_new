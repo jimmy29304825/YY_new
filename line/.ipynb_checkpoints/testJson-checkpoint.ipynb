{
 "cells": [
  {
   "cell_type": "code",
   "execution_count": 4,
   "metadata": {},
   "outputs": [],
   "source": [
    "# 引用會用到的套件\n",
    "from linebot.models import (\n",
    "    ImagemapSendMessage,TextSendMessage,ImageSendMessage,LocationSendMessage,FlexSendMessage\n",
    ")\n",
    "\n",
    "from linebot.models.template import (\n",
    "    ButtonsTemplate,CarouselTemplate,ConfirmTemplate,ImageCarouselTemplate\n",
    "    \n",
    ")\n",
    "\n",
    "from linebot.models.template import *\n",
    "import sys, json\n",
    "\n",
    "def detect_json_array_to_new_message_array(fileName):\n",
    "    \n",
    "    #開啟檔案，轉成json\n",
    "    with open(fileName,encoding=\"utf8\") as f:  # 在windows環境下執行須進行編碼才可讀取中文字 [encoding=\"utf8\"]\n",
    "        jsonArray = json.load(f)\n",
    "    \n",
    "    # 解析json\n",
    "    returnArray = []\n",
    "    for jsonObject in jsonArray:\n",
    "\n",
    "        # 讀取其用來判斷的元件\n",
    "        message_type = jsonObject.get('type')\n",
    "        \n",
    "        # 轉換，判斷讀取的json檔是哪一種line格式\n",
    "        if message_type == 'text':\n",
    "            returnArray.append(TextSendMessage.new_from_json_dict(jsonObject))\n",
    "        elif message_type == 'imagemap':\n",
    "            returnArray.append(ImagemapSendMessage.new_from_json_dict(jsonObject))\n",
    "        elif message_type == 'template':\n",
    "            returnArray.append(TemplateSendMessage.new_from_json_dict(jsonObject))\n",
    "        elif message_type == 'image':\n",
    "            returnArray.append(ImageSendMessage.new_from_json_dict(jsonObject))\n",
    "        elif message_type == 'sticker':\n",
    "            returnArray.append(StickerSendMessage.new_from_json_dict(jsonObject))  \n",
    "        elif message_type == 'audio':\n",
    "            returnArray.append(AudioSendMessage.new_from_json_dict(jsonObject))  \n",
    "        elif message_type == 'location':\n",
    "            returnArray.append(LocationSendMessage.new_from_json_dict(jsonObject))\n",
    "        elif message_type == 'flex':\n",
    "            returnArray.append(FlexSendMessage.new_from_json_dict(jsonObject))    \n",
    "\n",
    "    # 回傳\n",
    "    return returnArray"
   ]
  },
  {
   "cell_type": "code",
   "execution_count": 138,
   "metadata": {},
   "outputs": [
    {
     "name": "stdout",
     "output_type": "stream",
     "text": [
      "{\"actions\": [{\"data\": \"ger=getdate=3g1\", \"label\": \"\\u9078\\u64c7\", \"text\": \"\\u829d\\u9ebb\\u8449(3G1)\", \"type\": \"postback\"}], \"text\": \"3G1\", \"thumbnailImageUrl\": \"https://image-cdn-flare.qdm.cloud/q6bb8545ec4d1a/image/cache/data/2019/10/29/f837d79e102b45a95915c9649eb7d7d1-max-w-1024.jpg\", \"title\": \"\\u829d\\u9ebb\\u8449\"}\n",
      "芝麻葉\n",
      "3G1\n",
      "https://image-cdn-flare.qdm.cloud/q6bb8545ec4d1a/image/cache/data/2019/10/29/f837d79e102b45a95915c9649eb7d7d1-max-w-1024.jpg\n",
      "芝麻葉(3G1)\n",
      "ger=getdate=3g1\n"
     ]
    }
   ],
   "source": [
    "filename = './YY/ger4.json'\n",
    "data = detect_json_array_to_new_message_array(filename)\n",
    "print(data[0].template.columns[0])\n",
    "print(\n",
    "data[0].template.columns[0].title,\n",
    "data[0].template.columns[0].text,\n",
    "data[0].template.columns[0].thumbnail_image_url,\n",
    "data[0].template.columns[0].actions[0].text,\n",
    "data[0].template.columns[0].actions[0].data,\n",
    "sep = '\\n'\n",
    ")\n"
   ]
  },
  {
   "cell_type": "code",
   "execution_count": 90,
   "metadata": {},
   "outputs": [
    {
     "data": {
      "text/plain": [
       "str"
      ]
     },
     "execution_count": 90,
     "metadata": {},
     "output_type": "execute_result"
    }
   ],
   "source": [
    "type(data[0].template.columns[i].thumbnail_image_url)"
   ]
  },
  {
   "cell_type": "code",
   "execution_count": 37,
   "metadata": {},
   "outputs": [
    {
     "name": "stdout",
     "output_type": "stream",
     "text": [
      "作物編號: 3G1\n",
      "閾值參數: 170\n",
      "判斷條件: 3.0\n",
      "結果暫存清單: 共0筆數據(詳細請看self.result_list)\n"
     ]
    }
   ],
   "source": [
    "from yyGermination import connect, par, germination\n",
    "connect = connect('127.0.0.1', 3306, 'yy_jimmy', 'yyjimmy', 'yyostech')\n",
    "par = par(\"192.168.0.30\",22,\"pi\", \"Jimmy8193026\")\n",
    "germination = germination('3G1', 170 ,3.0)\n",
    "print(germination)"
   ]
  },
  {
   "cell_type": "code",
   "execution_count": 85,
   "metadata": {
    "scrolled": true
   },
   "outputs": [
    {
     "data": {
      "text/plain": [
       "(('1G1',\n",
       "  '綠火焰',\n",
       "  'https://y1.yooho.com.tw/images/201608/goods_img/1682_G_1470078288189.jpg',\n",
       "  180,\n",
       "  1.4,\n",
       "  6),\n",
       " ('1G4',\n",
       "  '奶油波士頓',\n",
       "  'https://www.coir.url.tw/images/products/OS083s.jpg',\n",
       "  185,\n",
       "  2.0,\n",
       "  6),\n",
       " ('1G7',\n",
       "  '蘿蔓',\n",
       "  'https://www.superbuy.com.tw/superbuy_admin/upload/images/0S7A2852.jpg',\n",
       "  180,\n",
       "  2.1,\n",
       "  6),\n",
       " ('1R7',\n",
       "  '紅蘿蔓',\n",
       "  'https://ct.yimg.com/xd/api/res/1.2/3Ny6MXT7YPxMz_2pAlEoIA--/YXBwaWQ9eXR3YXVjdGlvbnNlcnZpY2U7aD0yNzk7cT04NTtyb3RhdGU9YXV0bzt3PTM3MA--/https://s.yimg.com/ob/image/546d1ea3-871c-4d37-899d-fd2ccd8aa3c5.jpg',\n",
       "  180,\n",
       "  3.0,\n",
       "  6),\n",
       " ('1RB',\n",
       "  '紅寶石',\n",
       "  'https://shoplineimg.com/5756526be37ec6ab5e000158/5ad2d8c959d52418b5000361/750x.jpg?',\n",
       "  170,\n",
       "  3.0,\n",
       "  6),\n",
       " ('2GD',\n",
       "  '羽衣甘藍',\n",
       "  'https://www.artsomegroups.com/wp-content/uploads/2016/03/v14-1羽衣甘藍.jpg',\n",
       "  180,\n",
       "  4.0,\n",
       "  6),\n",
       " ('3G1',\n",
       "  '芝麻葉',\n",
       "  'https://image-cdn-flare.qdm.cloud/q6bb8545ec4d1a/image/cache/data/2019/10/29/f837d79e102b45a95915c9649eb7d7d1-max-w-1024.jpg',\n",
       "  180,\n",
       "  1.5,\n",
       "  6),\n",
       " ('3G2',\n",
       "  '蘿勒',\n",
       "  'https://pic.pimg.tw/forcesofnature/1445931692-857707950.jpg',\n",
       "  180,\n",
       "  0.8,\n",
       "  6))"
      ]
     },
     "execution_count": 85,
     "metadata": {},
     "output_type": "execute_result"
    }
   ],
   "source": [
    "series = connect.get_series()\n",
    "series"
   ]
  },
  {
   "cell_type": "code",
   "execution_count": 147,
   "metadata": {},
   "outputs": [],
   "source": [
    "for x, i in enumerate(data[0].template.columns[:-1]):\n",
    "    i.thumbnail_image_url = series[x][2]\n",
    "    i.title = series[x][1]\n",
    "    i.text = series[x][0]\n",
    "    i.actions[0].text = series[x][0]\n",
    "    i.actions[0].data = 'ger=getdate=' + series[x][0]"
   ]
  },
  {
   "cell_type": "code",
   "execution_count": 148,
   "metadata": {},
   "outputs": [
    {
     "data": {
      "text/plain": [
       "[{\"actions\": [{\"data\": \"ger=getdate=1G1\", \"label\": \"\\u9078\\u64c7\", \"text\": \"1G1\", \"type\": \"postback\"}], \"text\": \"1G1\", \"thumbnailImageUrl\": \"https://y1.yooho.com.tw/images/201608/goods_img/1682_G_1470078288189.jpg\", \"title\": \"\\u7da0\\u706b\\u7130\"},\n",
       " {\"actions\": [{\"data\": \"ger=getdate=1G4\", \"label\": \"\\u9078\\u64c7\", \"text\": \"1G4\", \"type\": \"postback\"}], \"text\": \"1G4\", \"thumbnailImageUrl\": \"https://www.coir.url.tw/images/products/OS083s.jpg\", \"title\": \"\\u5976\\u6cb9\\u6ce2\\u58eb\\u9813\"},\n",
       " {\"actions\": [{\"data\": \"ger=getdate=1G7\", \"label\": \"\\u9078\\u64c7\", \"text\": \"1G7\", \"type\": \"postback\"}], \"text\": \"1G7\", \"thumbnailImageUrl\": \"https://www.superbuy.com.tw/superbuy_admin/upload/images/0S7A2852.jpg\", \"title\": \"\\u863f\\u8513\"},\n",
       " {\"actions\": [{\"data\": \"ger=getdate=1R7\", \"label\": \"\\u9078\\u64c7\", \"text\": \"1R7\", \"type\": \"postback\"}], \"text\": \"1R7\", \"thumbnailImageUrl\": \"https://ct.yimg.com/xd/api/res/1.2/3Ny6MXT7YPxMz_2pAlEoIA--/YXBwaWQ9eXR3YXVjdGlvbnNlcnZpY2U7aD0yNzk7cT04NTtyb3RhdGU9YXV0bzt3PTM3MA--/https://s.yimg.com/ob/image/546d1ea3-871c-4d37-899d-fd2ccd8aa3c5.jpg\", \"title\": \"\\u7d05\\u863f\\u8513\"},\n",
       " {\"actions\": [{\"data\": \"ger=getdate=1RB\", \"label\": \"\\u9078\\u64c7\", \"text\": \"1RB\", \"type\": \"postback\"}], \"text\": \"1RB\", \"thumbnailImageUrl\": \"https://shoplineimg.com/5756526be37ec6ab5e000158/5ad2d8c959d52418b5000361/750x.jpg?\", \"title\": \"\\u7d05\\u5bf6\\u77f3\"},\n",
       " {\"actions\": [{\"data\": \"ger=getdate=2GD\", \"label\": \"\\u9078\\u64c7\", \"text\": \"2GD\", \"type\": \"postback\"}], \"text\": \"2GD\", \"thumbnailImageUrl\": \"https://www.artsomegroups.com/wp-content/uploads/2016/03/v14-1\\u7fbd\\u8863\\u7518\\u85cd.jpg\", \"title\": \"\\u7fbd\\u8863\\u7518\\u85cd\"},\n",
       " {\"actions\": [{\"data\": \"ger=getdate=3G1\", \"label\": \"\\u9078\\u64c7\", \"text\": \"3G1\", \"type\": \"postback\"}], \"text\": \"3G1\", \"thumbnailImageUrl\": \"https://image-cdn-flare.qdm.cloud/q6bb8545ec4d1a/image/cache/data/2019/10/29/f837d79e102b45a95915c9649eb7d7d1-max-w-1024.jpg\", \"title\": \"\\u829d\\u9ebb\\u8449\"},\n",
       " {\"actions\": [{\"data\": \"ger=getdate=3G2\", \"label\": \"\\u9078\\u64c7\", \"text\": \"3G2\", \"type\": \"postback\"}], \"text\": \"3G2\", \"thumbnailImageUrl\": \"https://pic.pimg.tw/forcesofnature/1445931692-857707950.jpg\", \"title\": \"\\u863f\\u52d2\"},\n",
       " {\"actions\": [{\"data\": \"more\", \"label\": \"\\u9078\\u64c7\", \"text\": \"\\u5176\\u4ed6\\u4f5c\\u7269\", \"type\": \"postback\"}], \"text\": \"\\u67e5\\u770b\\u66f4\\u591a\\u4f5c\\u7269\", \"thumbnailImageUrl\": \"https://images.assetsdelivery.com/compings_v2/stanislavpalamar/stanislavpalamar1807/stanislavpalamar180700022.jpg\", \"title\": \"\\u66f4\\u591a\"}]"
      ]
     },
     "execution_count": 148,
     "metadata": {},
     "output_type": "execute_result"
    }
   ],
   "source": [
    "# data[0].template.columns[0].thumbnail_image_url = series[i][2]\n",
    "data[0].template.columns\n"
   ]
  },
  {
   "cell_type": "code",
   "execution_count": 110,
   "metadata": {},
   "outputs": [],
   "source": [
    "a = [{\"altText\": \"\\u9078\\u64c7\\u8fa8\\u8b58\\u4f5c\\u7269(\\u8acb\\u5728\\u624b\\u6a5f\\u64cd\\u4f5c)\", \"template\": {\"columns\": [{\"actions\": [{\"data\": \"ger=getdate=3g1\", \"label\": \"\\u9078\\u64c7\", \"text\": \"\\u829d\\u9ebb\\u8449(3G1)\", \"type\": \"postback\"}], \"text\": \"3G1\", \"thumbnailImageUrl\": \"https://image-cdn-flare.qdm.cloud/q6bb8545ec4d1a/image/cache/data/2019/10/29/f837d79e102b45a95915c9649eb7d7d1-max-w-1024.jpg\", \"title\": \"\\u829d\\u9ebb\\u8449\"}, {\"actions\": [{\"data\": \"getdate:\", \"label\": \"\\u9078\\u64c7\", \"text\": \"\\u7da0\\u706b\\u7130(1G1)\", \"type\": \"postback\"}], \"text\": \"1G1\", \"thumbnailImageUrl\": \"https://y1.yooho.com.tw/images/201608/goods_img/1682_G_1470078288189.jpg\", \"title\": \"\\u7da0\\u706b\\u7130\"}, {\"actions\": [{\"data\": \"getdate:\", \"label\": \"\\u9078\\u64c7\", \"text\": \"\\u7f85\\u8513(1G7)\", \"type\": \"postback\"}], \"text\": \"1G7\", \"thumbnailImageUrl\": \"https://www.superbuy.com.tw/superbuy_admin/upload/images/0S7A2852.jpg\", \"title\": \"\\u7f85\\u8513\"}, {\"actions\": [{\"data\": \"getdate:\", \"label\": \"\\u9078\\u64c7\", \"text\": \"\\u7fbd\\u8863\\u7518\\u85cd(2GD)\", \"type\": \"postback\"}], \"text\": \"2GD\", \"thumbnailImageUrl\": \"https://www.artsomegroups.com/wp-content/uploads/2016/03/v14-1\\u7fbd\\u8863\\u7518\\u85cd.jpg\", \"title\": \"\\u7fbd\\u8863\\u7518\\u85cd\"}, {\"actions\": [{\"data\": \"getdate:\", \"label\": \"\\u9078\\u64c7\", \"text\": \"\\u7d05\\u5bf6\\u77f3\\u8435\\u82e3(1RB)\", \"type\": \"postback\"}], \"text\": \"1RB\", \"thumbnailImageUrl\": \"https://shoplineimg.com/5756526be37ec6ab5e000158/5ad2d8c959d52418b5000361/750x.jpg?\", \"title\": \"\\u7d05\\u5bf6\\u77f3\\u8435\\u82e3\"}, {\"actions\": [{\"data\": \"getdate:\", \"label\": \"\\u9078\\u64c7\", \"text\": \"\\u7d05\\u863f\\u8513(1R7)\", \"type\": \"postback\"}], \"text\": \"1R7\", \"thumbnailImageUrl\": \"https://ct.yimg.com/xd/api/res/1.2/3Ny6MXT7YPxMz_2pAlEoIA--/YXBwaWQ9eXR3YXVjdGlvbnNlcnZpY2U7aD0yNzk7cT04NTtyb3RhdGU9YXV0bzt3PTM3MA--/https://s.yimg.com/ob/image/546d1ea3-871c-4d37-899d-fd2ccd8aa3c5.jpg\", \"title\": \"\\u7d05\\u863f\\u8513\"}, {\"actions\": [{\"data\": \"getdate:\", \"label\": \"\\u9078\\u64c7\", \"text\": \"\\u5976\\u6cb9\\u6ce2\\u58eb\\u9813(1G4)\", \"type\": \"postback\"}], \"text\": \"1G4\", \"thumbnailImageUrl\": \"https://www.coir.url.tw/images/products/OS083s.jpg\", \"title\": \"\\u5976\\u6cb9\\u6ce2\\u58eb\\u9813\"}, {\"actions\": [{\"data\": \"getdate:\", \"label\": \"\\u9078\\u64c7\", \"text\": \"\\u7f85\\u52d2(3G2)\", \"type\": \"postback\"}], \"text\": \"3G2\", \"thumbnailImageUrl\": \"https://pic.pimg.tw/forcesofnature/1445931692-857707950.jpg\", \"title\": \"\\u7f85\\u52d2\"}, {\"actions\": [{\"data\": \"more\", \"label\": \"\\u9078\\u64c7\", \"text\": \"\\u5176\\u4ed6\\u4f5c\\u7269\", \"type\": \"postback\"}], \"text\": \"\\u67e5\\u770b\\u66f4\\u591a\\u4f5c\\u7269\", \"thumbnailImageUrl\": \"https://images.assetsdelivery.com/compings_v2/stanislavpalamar/stanislavpalamar1807/stanislavpalamar180700022.jpg\", \"title\": \"\\u66f4\\u591a\"}], \"type\": \"carousel\"}, \"type\": \"template\"}]\n",
    "b = [{\"altText\": \"\\u9078\\u64c7\\u8fa8\\u8b58\\u4f5c\\u7269(\\u8acb\\u5728\\u624b\\u6a5f\\u64cd\\u4f5c)\", \"template\": {\"columns\": [{\"actions\": [{\"data\": \"ger=getdate=1G1\", \"label\": \"\\u9078\\u64c7\", \"text\": [\"\\u7da0\\u706b\\u7130(1G1)\"], \"type\": \"postback\"}], \"text\": [\"1G1\"], \"thumbnailImageUrl\": [\"https://y1.yooho.com.tw/images/201608/goods_img/1682_G_1470078288189.jpg\"], \"title\": [\"\\u7da0\\u706b\\u7130\"]}, {\"actions\": [{\"data\": \"ger=getdate=1G4\", \"label\": \"\\u9078\\u64c7\", \"text\": [\"\\u5976\\u6cb9\\u6ce2\\u58eb\\u9813(1G4)\"], \"type\": \"postback\"}], \"text\": [\"1G4\"], \"thumbnailImageUrl\": [\"https://www.coir.url.tw/images/products/OS083s.jpg\"], \"title\": [\"\\u5976\\u6cb9\\u6ce2\\u58eb\\u9813\"]}, {\"actions\": [{\"data\": \"ger=getdate=1G7\", \"label\": \"\\u9078\\u64c7\", \"text\": [\"\\u863f\\u8513(1G7)\"], \"type\": \"postback\"}], \"text\": [\"1G7\"], \"thumbnailImageUrl\": [\"https://www.superbuy.com.tw/superbuy_admin/upload/images/0S7A2852.jpg\"], \"title\": [\"\\u863f\\u8513\"]}, {\"actions\": [{\"data\": \"ger=getdate=1R7\", \"label\": \"\\u9078\\u64c7\", \"text\": [\"\\u7d05\\u863f\\u8513(1R7)\"], \"type\": \"postback\"}], \"text\": [\"1R7\"], \"thumbnailImageUrl\": [\"https://ct.yimg.com/xd/api/res/1.2/3Ny6MXT7YPxMz_2pAlEoIA--/YXBwaWQ9eXR3YXVjdGlvbnNlcnZpY2U7aD0yNzk7cT04NTtyb3RhdGU9YXV0bzt3PTM3MA--/https://s.yimg.com/ob/image/546d1ea3-871c-4d37-899d-fd2ccd8aa3c5.jpg\"], \"title\": [\"\\u7d05\\u863f\\u8513\"]}, {\"actions\": [{\"data\": \"ger=getdate=1RB\", \"label\": \"\\u9078\\u64c7\", \"text\": [\"\\u7d05\\u5bf6\\u77f3(1RB)\"], \"type\": \"postback\"}], \"text\": [\"1RB\"], \"thumbnailImageUrl\": [\"https://shoplineimg.com/5756526be37ec6ab5e000158/5ad2d8c959d52418b5000361/750x.jpg?\"], \"title\": [\"\\u7d05\\u5bf6\\u77f3\"]}, {\"actions\": [{\"data\": \"ger=getdate=2GD\", \"label\": \"\\u9078\\u64c7\", \"text\": [\"\\u7fbd\\u8863\\u7518\\u85cd(2GD)\"], \"type\": \"postback\"}], \"text\": [\"2GD\"], \"thumbnailImageUrl\": [\"https://www.artsomegroups.com/wp-content/uploads/2016/03/v14-1\\u7fbd\\u8863\\u7518\\u85cd.jpg\"], \"title\": [\"\\u7fbd\\u8863\\u7518\\u85cd\"]}, {\"actions\": [{\"data\": \"ger=getdate=3G1\", \"label\": \"\\u9078\\u64c7\", \"text\": [\"\\u829d\\u9ebb\\u8449(3G1)\"], \"type\": \"postback\"}], \"text\": [\"3G1\"], \"thumbnailImageUrl\": [\"https://image-cdn-flare.qdm.cloud/q6bb8545ec4d1a/image/cache/data/2019/10/29/f837d79e102b45a95915c9649eb7d7d1-max-w-1024.jpg\"], \"title\": [\"\\u829d\\u9ebb\\u8449\"]}, {\"actions\": [{\"data\": \"ger=getdate=3G2\", \"label\": \"\\u9078\\u64c7\", \"text\": [\"\\u863f\\u52d2(3G2)\"], \"type\": \"postback\"}], \"text\": [\"3G2\"], \"thumbnailImageUrl\": [\"https://pic.pimg.tw/forcesofnature/1445931692-857707950.jpg\"], \"title\": [\"\\u863f\\u52d2\"]}, {\"actions\": [{\"data\": \"more\", \"label\": \"\\u9078\\u64c7\", \"text\": \"\\u5176\\u4ed6\\u4f5c\\u7269\", \"type\": \"postback\"}], \"text\": \"\\u67e5\\u770b\\u66f4\\u591a\\u4f5c\\u7269\", \"thumbnailImageUrl\": \"https://images.assetsdelivery.com/compings_v2/stanislavpalamar/stanislavpalamar1807/stanislavpalamar180700022.jpg\", \"title\": \"\\u66f4\\u591a\"}], \"type\": \"carousel\"}, \"type\": \"template\"}]"
   ]
  },
  {
   "cell_type": "code",
   "execution_count": 146,
   "metadata": {},
   "outputs": [
    {
     "data": {
      "text/plain": [
       "[{\"actions\": [{\"data\": \"ger=getdate=1G1\", \"label\": \"\\u9078\\u64c7\", \"text\": \"1G1\", \"type\": \"postback\"}], \"text\": \"1G1\", \"thumbnailImageUrl\": \"https://y1.yooho.com.tw/images/201608/goods_img/1682_G_1470078288189.jpg\", \"title\": \"\\u7da0\\u706b\\u7130\"},\n",
       " {\"actions\": [{\"data\": \"ger=getdate=1G4\", \"label\": \"\\u9078\\u64c7\", \"text\": \"1G4\", \"type\": \"postback\"}], \"text\": \"1G4\", \"thumbnailImageUrl\": \"https://www.coir.url.tw/images/products/OS083s.jpg\", \"title\": \"\\u5976\\u6cb9\\u6ce2\\u58eb\\u9813\"},\n",
       " {\"actions\": [{\"data\": \"ger=getdate=1G7\", \"label\": \"\\u9078\\u64c7\", \"text\": \"1G7\", \"type\": \"postback\"}], \"text\": \"1G7\", \"thumbnailImageUrl\": \"https://www.superbuy.com.tw/superbuy_admin/upload/images/0S7A2852.jpg\", \"title\": \"\\u863f\\u8513\"},\n",
       " {\"actions\": [{\"data\": \"ger=getdate=1R7\", \"label\": \"\\u9078\\u64c7\", \"text\": \"1R7\", \"type\": \"postback\"}], \"text\": \"1R7\", \"thumbnailImageUrl\": \"https://ct.yimg.com/xd/api/res/1.2/3Ny6MXT7YPxMz_2pAlEoIA--/YXBwaWQ9eXR3YXVjdGlvbnNlcnZpY2U7aD0yNzk7cT04NTtyb3RhdGU9YXV0bzt3PTM3MA--/https://s.yimg.com/ob/image/546d1ea3-871c-4d37-899d-fd2ccd8aa3c5.jpg\", \"title\": \"\\u7d05\\u863f\\u8513\"},\n",
       " {\"actions\": [{\"data\": \"ger=getdate=1RB\", \"label\": \"\\u9078\\u64c7\", \"text\": \"1RB\", \"type\": \"postback\"}], \"text\": \"1RB\", \"thumbnailImageUrl\": \"https://shoplineimg.com/5756526be37ec6ab5e000158/5ad2d8c959d52418b5000361/750x.jpg?\", \"title\": \"\\u7d05\\u5bf6\\u77f3\"},\n",
       " {\"actions\": [{\"data\": \"ger=getdate=2GD\", \"label\": \"\\u9078\\u64c7\", \"text\": \"2GD\", \"type\": \"postback\"}], \"text\": \"2GD\", \"thumbnailImageUrl\": \"https://www.artsomegroups.com/wp-content/uploads/2016/03/v14-1\\u7fbd\\u8863\\u7518\\u85cd.jpg\", \"title\": \"\\u7fbd\\u8863\\u7518\\u85cd\"},\n",
       " {\"actions\": [{\"data\": \"ger=getdate=3G1\", \"label\": \"\\u9078\\u64c7\", \"text\": \"3G1\", \"type\": \"postback\"}], \"text\": \"3G1\", \"thumbnailImageUrl\": \"https://image-cdn-flare.qdm.cloud/q6bb8545ec4d1a/image/cache/data/2019/10/29/f837d79e102b45a95915c9649eb7d7d1-max-w-1024.jpg\", \"title\": \"\\u829d\\u9ebb\\u8449\"},\n",
       " {\"actions\": [{\"data\": \"ger=getdate=3G2\", \"label\": \"\\u9078\\u64c7\", \"text\": \"3G2\", \"type\": \"postback\"}], \"text\": \"3G2\", \"thumbnailImageUrl\": \"https://pic.pimg.tw/forcesofnature/1445931692-857707950.jpg\", \"title\": \"\\u863f\\u52d2\"}]"
      ]
     },
     "execution_count": 146,
     "metadata": {},
     "output_type": "execute_result"
    }
   ],
   "source": [
    "data[0].template.columns[:-1]"
   ]
  },
  {
   "cell_type": "code",
   "execution_count": 163,
   "metadata": {},
   "outputs": [
    {
     "data": {
      "text/plain": [
       "'辨識作物：%s'"
      ]
     },
     "execution_count": 163,
     "metadata": {},
     "output_type": "execute_result"
    }
   ],
   "source": [
    "filename = './YY/ger2.json'\n",
    "data = detect_json_array_to_new_message_array(filename)\n",
    "data[0].template.text"
   ]
  },
  {
   "cell_type": "code",
   "execution_count": 161,
   "metadata": {},
   "outputs": [
    {
     "data": {
      "text/plain": [
       "'辨識品種：3G1\\n播種日期：2020-02-26\\n輸入批號為：1234567890'"
      ]
     },
     "execution_count": 161,
     "metadata": {},
     "output_type": "execute_result"
    }
   ],
   "source": [
    "gerData = {'process_id': None, 'series_id': '3G1', 'seed_numbers': '1234567890', \n",
    "           'identify_date': '2020-03-25 12:31:58', 'saw_date': '2020-02-26', \n",
    "           'done': 1, 'threshold': None, 'germination_percent': None}\n",
    "text_tuple = (gerData['series_id'], gerData['saw_date'], gerData['seed_numbers'])\n",
    "data[0].template.text = (data[0].template.text % text_tuple)\n",
    "data[0].template.text"
   ]
  },
  {
   "cell_type": "code",
   "execution_count": null,
   "metadata": {},
   "outputs": [],
   "source": [
    "data[0].template.text = (data[0].template.text % (gerData['series_id'],))\n",
    "data[0].template.text"
   ]
  },
  {
   "cell_type": "code",
   "execution_count": 181,
   "metadata": {},
   "outputs": [
    {
     "data": {
      "text/plain": [
       "'%s辨識完成，發芽率 [ %s%s]'"
      ]
     },
     "execution_count": 181,
     "metadata": {},
     "output_type": "execute_result"
    }
   ],
   "source": [
    "filename = './YY/ger7.json'\n",
    "data = detect_json_array_to_new_message_array(filename)\n",
    "data[0].template.title"
   ]
  },
  {
   "cell_type": "code",
   "execution_count": 182,
   "metadata": {},
   "outputs": [
    {
     "data": {
      "text/plain": [
       "'3G1辨識完成，發芽率 [ 90.5%]'"
      ]
     },
     "execution_count": 182,
     "metadata": {},
     "output_type": "execute_result"
    }
   ],
   "source": [
    "# title_result = (gerData['series_id'], result)\n",
    "title_result = ('3G1', 90.5, '%')\n",
    "data[0].template.title = (data[0].template.title % title_result)\n",
    "data[0].template.title"
   ]
  },
  {
   "cell_type": "code",
   "execution_count": 183,
   "metadata": {},
   "outputs": [
    {
     "data": {
      "text/plain": [
       "'3G1辨識完成，發芽率 [ 90.5%]'"
      ]
     },
     "execution_count": 183,
     "metadata": {},
     "output_type": "execute_result"
    }
   ],
   "source": [
    "data[0].template.title"
   ]
  },
  {
   "cell_type": "code",
   "execution_count": 3,
   "metadata": {},
   "outputs": [
    {
     "ename": "error",
     "evalue": "OpenCV(4.1.2) C:\\projects\\opencv-python\\opencv\\modules\\core\\src\\alloc.cpp:73: error: (-4:Insufficient memory) Failed to allocate 9240000 bytes in function 'cv::OutOfMemoryError'\n",
     "output_type": "error",
     "traceback": [
      "\u001b[1;31m---------------------------------------------------------------------------\u001b[0m",
      "\u001b[1;31merror\u001b[0m                                     Traceback (most recent call last)",
      "\u001b[1;32m<ipython-input-3-3b4a95e84fdc>\u001b[0m in \u001b[0;36m<module>\u001b[1;34m\u001b[0m\n\u001b[0;32m      3\u001b[0m \u001b[0mgerData\u001b[0m \u001b[1;33m=\u001b[0m \u001b[1;33m{\u001b[0m\u001b[1;34m'series_id'\u001b[0m\u001b[1;33m:\u001b[0m \u001b[1;34m'3G1'\u001b[0m\u001b[1;33m,\u001b[0m \u001b[1;34m'threshold'\u001b[0m\u001b[1;33m:\u001b[0m \u001b[1;36m180\u001b[0m\u001b[1;33m,\u001b[0m \u001b[1;34m'germination_percent'\u001b[0m\u001b[1;33m:\u001b[0m \u001b[1;36m1.5\u001b[0m\u001b[1;33m}\u001b[0m\u001b[1;33m\u001b[0m\u001b[1;33m\u001b[0m\u001b[0m\n\u001b[0;32m      4\u001b[0m \u001b[0mger\u001b[0m \u001b[1;33m=\u001b[0m \u001b[0mgermination\u001b[0m\u001b[1;33m(\u001b[0m\u001b[0mgerData\u001b[0m\u001b[1;33m[\u001b[0m\u001b[1;34m'series_id'\u001b[0m\u001b[1;33m]\u001b[0m\u001b[1;33m,\u001b[0m \u001b[0mgerData\u001b[0m\u001b[1;33m[\u001b[0m\u001b[1;34m'threshold'\u001b[0m\u001b[1;33m]\u001b[0m\u001b[1;33m,\u001b[0m \u001b[0mgerData\u001b[0m\u001b[1;33m[\u001b[0m\u001b[1;34m'germination_percent'\u001b[0m\u001b[1;33m]\u001b[0m\u001b[1;33m)\u001b[0m\u001b[1;33m\u001b[0m\u001b[1;33m\u001b[0m\u001b[0m\n\u001b[1;32m----> 5\u001b[1;33m \u001b[0mimage\u001b[0m \u001b[1;33m=\u001b[0m \u001b[0mcv2\u001b[0m\u001b[1;33m.\u001b[0m\u001b[0mimread\u001b[0m\u001b[1;33m(\u001b[0m\u001b[1;34m\"./YY/3G1_rect1.jpg\"\u001b[0m\u001b[1;33m,\u001b[0m \u001b[0mcv2\u001b[0m\u001b[1;33m.\u001b[0m\u001b[0mIMREAD_COLOR\u001b[0m\u001b[1;33m)\u001b[0m\u001b[1;33m\u001b[0m\u001b[1;33m\u001b[0m\u001b[0m\n\u001b[0m\u001b[0;32m      6\u001b[0m \u001b[0mresult\u001b[0m \u001b[1;33m=\u001b[0m \u001b[0mger\u001b[0m\u001b[1;33m.\u001b[0m\u001b[0mget_photo\u001b[0m\u001b[1;33m(\u001b[0m\u001b[0mimage\u001b[0m\u001b[1;33m)\u001b[0m\u001b[1;33m\u001b[0m\u001b[1;33m\u001b[0m\u001b[0m\n",
      "\u001b[1;31merror\u001b[0m: OpenCV(4.1.2) C:\\projects\\opencv-python\\opencv\\modules\\core\\src\\alloc.cpp:73: error: (-4:Insufficient memory) Failed to allocate 9240000 bytes in function 'cv::OutOfMemoryError'\n"
     ]
    }
   ],
   "source": [
    "from yyGermination import connect, par, germination\n",
    "import cv2\n",
    "gerData = {'series_id': '3G1', 'threshold': 180, 'germination_percent': 1.5}\n",
    "ger = germination(gerData['series_id'], gerData['threshold'], gerData['germination_percent'])\n",
    "image = cv2.imread(\"./YY/3G1_rect1.jpg\", cv2.IMREAD_COLOR)\n",
    "result = ger.get_photo(image)"
   ]
  },
  {
   "cell_type": "code",
   "execution_count": 187,
   "metadata": {},
   "outputs": [
    {
     "data": {
      "text/plain": [
       "(1400, 2200, 3)"
      ]
     },
     "execution_count": 187,
     "metadata": {},
     "output_type": "execute_result"
    }
   ],
   "source": [
    "image.shape"
   ]
  },
  {
   "cell_type": "code",
   "execution_count": null,
   "metadata": {},
   "outputs": [],
   "source": []
  }
 ],
 "metadata": {
  "kernelspec": {
   "display_name": "Python 3",
   "language": "python",
   "name": "python3"
  }
 },
 "nbformat": 4,
 "nbformat_minor": 4
}
