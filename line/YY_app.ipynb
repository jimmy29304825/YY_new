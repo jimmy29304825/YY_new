{
 "cells": [
  {
   "cell_type": "code",
   "execution_count": 12,
   "metadata": {},
   "outputs": [
    {
     "data": {
      "text/plain": [
       "'\\n\\n整體功能描述\\n\\n'"
      ]
     },
     "execution_count": 12,
     "metadata": {},
     "output_type": "execute_result"
    }
   ],
   "source": [
    "'''\n",
    "\n",
    "整體功能描述\n",
    "\n",
    "'''"
   ]
  },
  {
   "cell_type": "code",
   "execution_count": 13,
   "metadata": {},
   "outputs": [],
   "source": [
    "'''\n",
    "\n",
    "Application 主架構\n",
    "\n",
    "'''\n",
    "\n",
    "# 引用Web Server套件\n",
    "from flask import Flask, request, abort\n",
    "\n",
    "# 從linebot 套件包裡引用 LineBotApi 與 WebhookHandler 類別\n",
    "from linebot import (\n",
    "    LineBotApi, WebhookHandler\n",
    ")\n",
    "\n",
    "# 引用無效簽章錯誤\n",
    "from linebot.exceptions import (\n",
    "    InvalidSignatureError\n",
    ")\n",
    "\n",
    "# 載入json處理套件\n",
    "import json\n",
    "\n",
    "# 載入基礎設定檔\n",
    "secretFileContentJson=json.load(open(\"./line_secret_key\",'r'))  # 載入line_secret_key資訊\n",
    "server_url=secretFileContentJson.get(\"server_url\")  # 讀取webhooks網址\n",
    "\n",
    "# 設定Server啟用細節\n",
    "app = Flask(__name__,static_url_path = \"/Users/USER/PycharmProjects/YY_germination/YY_germination-master/line/YY\",   # url連結名稱(https://ngrok/static_url_path/)\n",
    "            static_folder = \"/Users/USER/PycharmProjects/YY_germination/YY_germination-master/line/YY\")  #  https://ngrok/static_url_path/對應到的locla資料夾位置\n",
    "# 生成實體物件\n",
    "line_bot_api = LineBotApi(secretFileContentJson.get(\"channel_access_token\"))  # 讀取line channel_access_token\n",
    "handler = WebhookHandler(secretFileContentJson.get(\"secret_key\"))  # 讀取line secret_key\n",
    "\n",
    "# 啟動server對外接口，使Line能丟消息進來\n",
    "@app.route(\"/\", methods=['POST'])\n",
    "def callback():\n",
    "    # get X-Line-Signature header value\n",
    "    signature = request.headers['X-Line-Signature']\n",
    "\n",
    "    # get request body as text\n",
    "    body = request.get_data(as_text=True)\n",
    "    app.logger.info(\"Request body: \" + body)\n",
    "\n",
    "    # handle webhook body\n",
    "    try:\n",
    "        handler.handle(body, signature)\n",
    "    except InvalidSignatureError:\n",
    "        abort(400)\n",
    "\n",
    "    return 'OK'"
   ]
  },
  {
   "cell_type": "code",
   "execution_count": 14,
   "metadata": {},
   "outputs": [],
   "source": [
    "'''\n",
    "\n",
    "消息判斷器\n",
    "\n",
    "讀取指定的json檔案後，把json解析成不同格式的SendMessage\n",
    "\n",
    "讀取檔案，\n",
    "把內容轉換成json\n",
    "將json轉換成消息\n",
    "放回array中，並把array傳出。\n",
    "\n",
    "'''\n",
    "\n",
    "# 引用會用到的套件\n",
    "from linebot.models import (\n",
    "    ImagemapSendMessage,TextSendMessage,ImageSendMessage,LocationSendMessage,FlexSendMessage\n",
    ")\n",
    "\n",
    "from linebot.models.template import (\n",
    "    ButtonsTemplate,CarouselTemplate,ConfirmTemplate,ImageCarouselTemplate\n",
    "    \n",
    ")\n",
    "\n",
    "from linebot.models.template import *\n",
    "import sys\n",
    "\n",
    "def detect_json_array_to_new_message_array(fileName):\n",
    "    \n",
    "    #開啟檔案，轉成json\n",
    "    with open(fileName,encoding=\"utf8\") as f:  # 在windows環境下執行須進行編碼才可讀取中文字 [encoding=\"utf8\"]\n",
    "        jsonArray = json.load(f)\n",
    "    \n",
    "    # 解析json\n",
    "    returnArray = []\n",
    "    for jsonObject in jsonArray:\n",
    "\n",
    "        # 讀取其用來判斷的元件\n",
    "        message_type = jsonObject.get('type')\n",
    "        \n",
    "        # 轉換，判斷讀取的json檔是哪一種line格式\n",
    "        if message_type == 'text':\n",
    "            returnArray.append(TextSendMessage.new_from_json_dict(jsonObject))\n",
    "        elif message_type == 'imagemap':\n",
    "            returnArray.append(ImagemapSendMessage.new_from_json_dict(jsonObject))\n",
    "        elif message_type == 'template':\n",
    "            returnArray.append(TemplateSendMessage.new_from_json_dict(jsonObject))\n",
    "        elif message_type == 'image':\n",
    "            returnArray.append(ImageSendMessage.new_from_json_dict(jsonObject))\n",
    "        elif message_type == 'sticker':\n",
    "            returnArray.append(StickerSendMessage.new_from_json_dict(jsonObject))  \n",
    "        elif message_type == 'audio':\n",
    "            returnArray.append(AudioSendMessage.new_from_json_dict(jsonObject))  \n",
    "        elif message_type == 'location':\n",
    "            returnArray.append(LocationSendMessage.new_from_json_dict(jsonObject))\n",
    "        elif message_type == 'flex':\n",
    "            returnArray.append(FlexSendMessage.new_from_json_dict(jsonObject))    \n",
    "\n",
    "    # 回傳\n",
    "    return returnArray"
   ]
  },
  {
   "cell_type": "code",
   "execution_count": 15,
   "metadata": {},
   "outputs": [],
   "source": [
    "'''\n",
    "\n",
    "設定訂閱頻道後顯示的圖文\n",
    "製作文字與圖片的教學訊息\n",
    "\n",
    "'''\n",
    "# 將消息模型，文字收取消息與文字寄發消息 引入\n",
    "from linebot.models import (\n",
    "    MessageEvent, TextMessage, TextSendMessage, ImageSendMessage\n",
    ")\n",
    "\n",
    "# 消息清單\n",
    "reply_message_list = [\n",
    "    TextSendMessage(text=\"您好！歡迎使用研耘科技發芽率辨識平台\")\n",
    "]\n"
   ]
  },
  {
   "cell_type": "code",
   "execution_count": 16,
   "metadata": {},
   "outputs": [],
   "source": [
    "'''\n",
    "\n",
    "撰寫用戶關注時，我們要處理的商業邏輯\n",
    "\n",
    "1. 取得用戶個資，並存回伺服器\n",
    "2. 把先前製作好的自定義菜單，與用戶做綁定\n",
    "3. 回應用戶，歡迎用的文字消息與圖片消息\n",
    "\n",
    "'''\n",
    "\n",
    "\n",
    "# 載入Follow事件\n",
    "from linebot.models.events import (\n",
    "    FollowEvent\n",
    ")\n",
    "\n",
    "# 載入requests套件\n",
    "import requests\n",
    "\n",
    "\n",
    "# 告知handler，如果收到FollowEvent，則做下面的方法處理\n",
    "@handler.add(FollowEvent)\n",
    "def reply_text_and_get_user_profile(event):\n",
    "    print(event)\n",
    "    print(event.reply_token)\n",
    "    # 取出消息內User的資料\n",
    "    user_profile = line_bot_api.get_profile(event.source.user_id)\n",
    "        \n",
    "     # 將用戶資訊存在檔案內(後可改為存入DB)\n",
    "    with open(\"users.txt\", \"a\") as myfile:\n",
    "        myfile.write(json.dumps(vars(user_profile),sort_keys=True))\n",
    "        myfile.write('\\r\\n')\n",
    "        \n",
    "        \n",
    "    # 將菜單綁定在用戶身上\n",
    "    linkRichMenuId=secretFileContentJson.get(\"rich_menu_id\")  # 載入line_secret_key內的rich_menu_id資訊\n",
    "    linkMenuEndpoint='https://api.line.me/v2/bot/user/%s/richmenu/%s' % (event.source.user_id, linkRichMenuId)  # 指定user_id檔定rich_menu_id\n",
    "    linkMenuRequestHeader={'Content-Type':'image/png','Authorization':'Bearer %s' % secretFileContentJson[\"channel_access_token\"]}  # request header資訊(含channel_access_token)\n",
    "    lineLinkMenuResponse=requests.post(linkMenuEndpoint,headers=linkMenuRequestHeader)  # 致行榜定圖文選單的命令\n",
    "    \n",
    "    # 回覆文字消息與圖片消息(綁定圖文選單與回文是不同的指令喔~~)\n",
    "    line_bot_api.reply_message(\n",
    "        event.reply_token,\n",
    "        reply_message_list\n",
    "    )"
   ]
  },
  {
   "cell_type": "code",
   "execution_count": 17,
   "metadata": {},
   "outputs": [],
   "source": [
    "'''\n",
    "\n",
    "handler處理文字消息\n",
    "\n",
    "收到用戶回應的文字消息，\n",
    "按文字消息內容，往素材資料夾中，找尋以該內容命名的資料夾，讀取裡面的reply.json\n",
    "\n",
    "轉譯json後，將消息回傳給用戶\n",
    "\n",
    "'''\n",
    "import time\n",
    "# 引用套件\n",
    "from linebot.models import (\n",
    "    MessageEvent, TextMessage\n",
    ")\n",
    "\n",
    "# 文字消息處理\n",
    "@handler.add(MessageEvent,message=TextMessage)\n",
    "def process_text_message(event):\n",
    "    if gerData['sawDate'] != None and gerData['done'] == 0:  # 收到品號資訊，再次請對方確認\n",
    "        if len(event.message.text) == 10:\n",
    "            result_message_array =[]\n",
    "            replyJsonPath = \"./YY/ger4.json\"\n",
    "            result_message_array = detect_json_array_to_new_message_array(replyJsonPath)\n",
    "            line_bot_api.reply_message(event.reply_token, result_message_array)\n",
    "            gerData['id'] = event.message.text    \n",
    "            gerData['done'] = 1\n",
    "        else:\n",
    "            print('error')\n",
    "        print(gerData)\n",
    "    else:\n",
    "        print(event.message.text)"
   ]
  },
  {
   "cell_type": "code",
   "execution_count": 18,
   "metadata": {},
   "outputs": [],
   "source": [
    "from linebot.models import QuickReply, QuickReplyButton, MessageAction\n",
    "text_message = ImageSendMessage(\n",
    "                                original_content_url='https://img14.360buyimg.com/n1/jfs/t13783/319/1236665218/301479/1cc634fe/5a1d2ba2N238bb222.jpg',\n",
    "                                preview_image_url='https://img14.360buyimg.com/n1/jfs/t13783/319/1236665218/301479/1cc634fe/5a1d2ba2N238bb222.jpg',\n",
    "                                quick_reply=QuickReply(items=[\n",
    "                                   QuickReplyButton(action=MessageAction(label=\"發芽\", text=\"發芽\", data='human_check_yes')),\n",
    "                                   QuickReplyButton(action=MessageAction(label=\"未發芽\", text=\"未發芽\", data='human_check_no'))\n",
    "                               ]))\n",
    "\n",
    "# QuickReplyButton(action=action"
   ]
  },
  {
   "cell_type": "code",
   "execution_count": 19,
   "metadata": {},
   "outputs": [],
   "source": [
    "'''\n",
    "\n",
    "handler處理Postback Event\n",
    "\n",
    "載入功能選單與啟動特殊功能\n",
    "\n",
    "解析postback的data，並按照data欄位判斷處理\n",
    "\n",
    "'''\n",
    "from linebot.models import (\n",
    "    PostbackEvent\n",
    ")\n",
    "\n",
    "from urllib.parse import parse_qs \n",
    "\n",
    "@handler.add(PostbackEvent)\n",
    "def process_postback_event(event):\n",
    "    dict1 = parse_qs(event.postback.data)\n",
    "    if 'start' == list(dict1.keys())[0]:  # 第一層動作判斷(start)\n",
    "        func = list(dict1.values())[0][0]  # 判斷是哪一個命令\n",
    "        result_message_array =[]\n",
    "        replyJsonPath = './YY/' + func + '.json'  # 回應檔路徑\n",
    "        result_message_array = detect_json_array_to_new_message_array(replyJsonPath)  # 呼叫回應檔\n",
    "        # 讀資料庫改json\n",
    "        # ger: 品種名稱、id、縮圖，點more要再列出其他品種\n",
    "        # human: 品種名稱、id、縮圖，點more要再列出其他品種\n",
    "        # table: 品種名稱、id、縮圖，點more要再列出其他品種\n",
    "        # power: 列出現有人員清單\n",
    "        # problem、add: 文字方框而已，用dict紀錄啟動該功能\n",
    "        line_bot_api.reply_message(event.reply_token, result_message_array)  # post回應\n",
    "        \n",
    "    if 'ger' in list(dict1.keys())[0]:  # 發芽率辨識\n",
    "        print(dict1.values())\n",
    "        dict2 = parse_qs(list(dict1.values())[0][0])\n",
    "        print(dict2)\n",
    "        if 'getdate' in list(dict2.keys())[0]:  # 確認辨識的作物品種，回傳播種日期選擇\n",
    "            gerData['name'] = list(dict2.values())[0][0]  # 紀錄是哪一個作物\n",
    "            result_message_array =[]\n",
    "            replyJsonPath = './YY/ger2.json'  # 回應檔路徑\n",
    "            result_message_array = detect_json_array_to_new_message_array(replyJsonPath)  # 呼叫回應檔\n",
    "            line_bot_api.reply_message(event.reply_token, result_message_array)  # post回應\n",
    "        if 'selectDate' in list(dict2.keys())[0]:  # 確認播種日期，請輸入品號\n",
    "            gerData['sawDate'] = event.postback.params['date']\n",
    "            gerData['done'] = 0\n",
    "            print(gerData)\n",
    "            result_message_array =[]\n",
    "            replyJsonPath = './YY/ger3.json'  # 回應檔路徑\n",
    "            result_message_array = detect_json_array_to_new_message_array(replyJsonPath)  # 呼叫回應檔\n",
    "            line_bot_api.reply_message(event.reply_token, result_message_array)  # post回應\n",
    "        if 'confirm' in list(dict2.keys())[0]:  # 確認作物品種、播種日期、品號無誤後，抓資料庫參數、啟動local設備，清空暫存檔\n",
    "            # 抓辨識用參數\n",
    "            # 啟動攝影機、補光燈\n",
    "            result_message_array =[]\n",
    "            replyJsonPath = './YY/ger5.json'  # 回應檔路徑\n",
    "            result_message_array = detect_json_array_to_new_message_array(replyJsonPath)  # 呼叫回應檔\n",
    "            line_bot_api.reply_message(event.reply_token, result_message_array)  # post回應\n",
    "            gerData['name'] = None\n",
    "            gerData['sawDate'] = None\n",
    "            gerData['id'] = None\n",
    "            gerData['done'] = None\n",
    "        if 'shot' in list(dict2.keys())[0]:  # 拍攝照片、判斷、紀錄\n",
    "            # 拍照\n",
    "            # 模型判斷\n",
    "            # 回存資料庫\n",
    "            result_message_array =[]\n",
    "            replyJsonPath = './YY/ger6.json'  # 回應檔路徑\n",
    "            result_message_array = detect_json_array_to_new_message_array(replyJsonPath)  # 呼叫回應檔\n",
    "            # 回傳辨識結果(文字、圖像)\n",
    "            line_bot_api.reply_message(event.reply_token, result_message_array)  # post回應\n",
    "        if 'stop' in list(dict2.keys())[0]:  # 確認停止辨識，統整這一批的辨識結果\n",
    "            # 抓取這一批的所有辨識紀錄\n",
    "            result_message_array =[]\n",
    "            replyJsonPath = './YY/ger7.json'  # 回應檔路徑\n",
    "            result_message_array = detect_json_array_to_new_message_array(replyJsonPath)  # 呼叫回應檔\n",
    "            # 回傳整體辨識結果(文字)\n",
    "            line_bot_api.reply_message(event.reply_token, result_message_array)  # post回應\n",
    "    if 'human' in list(dict1.keys())[0]:  # 人工判別\n",
    "        print(dict1.values())\n",
    "        dict2 = parse_qs(list(dict1.values())[0][0])\n",
    "        print(dict2)\n",
    "        if 'species' in list(dict2.keys())[0]:  # 確認判別的品種\n",
    "            humanData['name'] = list(dict2.values())[0][0]\n",
    "            humanData['date'] = '2020/3/7'\n",
    "            # 抓所有待判斷照片出來\n",
    "            # 回傳一張照片的URL\n",
    "            replyJsonPath = './YY/human2.json'  # 回應檔路徑\n",
    "            result_message_array = detect_json_array_to_new_message_array(replyJsonPath)  # 呼叫回應檔\n",
    "            # 回傳整體辨識結果(文字)\n",
    "            line_bot_api.reply_message(event.reply_token, result_message_array)  # post回應\n",
    "            \n",
    "        if 'check' in list(dict2.keys())[0] and humanData['done'] == 9:  # 判斷是否停止\n",
    "            print(list(dict2.values())[0][0])\n",
    "            print(humanData['done'], 'done')\n",
    "            replyJsonPath = './YY/human4.json'  # 回應檔路徑\n",
    "            result_message_array = detect_json_array_to_new_message_array(replyJsonPath)  # 呼叫回應檔\n",
    "            # 回傳整體辨識結果(文字)\n",
    "            line_bot_api.reply_message(event.reply_token, result_message_array)  # post回應\n",
    "            \n",
    "        if 'check' in list(dict2.keys())[0] and humanData['done'] < 9:  # 確認判斷的數量\n",
    "            humanData['done'] = humanData['done'] + 1\n",
    "            print(humanData['done'])\n",
    "            print(list(dict2.values())[0][0])\n",
    "            replyJsonPath = './YY/human2.json'  # 回應檔路徑\n",
    "            result_message_array = detect_json_array_to_new_message_array(replyJsonPath)  # 呼叫回應檔\n",
    "            # 回傳整體辨識結果(文字)\n",
    "            line_bot_api.reply_message(event.reply_token, result_message_array)  # post回應\n",
    "        \n",
    "        if 'continue' in list(dict2.keys())[0]:\n",
    "            if 'yes' in list(dict2.values())[0][0]:  # 繼續在辨識十張照片\n",
    "                humanData['done'] = 0\n",
    "                replyJsonPath = './YY/human2.json'  # 回應檔路徑\n",
    "                result_message_array = detect_json_array_to_new_message_array(replyJsonPath)  # 呼叫回應檔\n",
    "                # 回傳整體辨識結果(文字)\n",
    "                line_bot_api.reply_message(event.reply_token, result_message_array)  # post回應\n",
    "                \n",
    "            if 'no' in list(dict2.values())[0][0]:  # 停止辨識並儲存\n",
    "                humanData['done'] = 0\n",
    "                replyJsonPath = './YY/human5.json'  # 回應檔路徑\n",
    "                result_message_array = detect_json_array_to_new_message_array(replyJsonPath)  # 呼叫回應檔\n",
    "                # 回傳整體辨識結果(文字)\n",
    "                line_bot_api.reply_message(event.reply_token, result_message_array)  # post回應"
   ]
  },
  {
   "cell_type": "code",
   "execution_count": 20,
   "metadata": {},
   "outputs": [],
   "source": [
    "gerData = {'name':None, 'sawDate':None, 'id':None, 'done': None}  # 作為執行發芽率辨識的暫存物件\n",
    "humanData = {'name':None, 'date': None, 'image':None, 'done':0}  # 作為執行人工判別的暫存物件0-10\n",
    "# addData\n",
    "# tableData\n",
    "# powerData\n",
    "# problemData"
   ]
  },
  {
   "cell_type": "code",
   "execution_count": null,
   "metadata": {
    "scrolled": false
   },
   "outputs": [
    {
     "name": "stdout",
     "output_type": "stream",
     "text": [
      " * Serving Flask app \"__main__\" (lazy loading)\n",
      " * Environment: production\n",
      "   WARNING: This is a development server. Do not use it in a production deployment.\n",
      "   Use a production WSGI server instead.\n",
      " * Debug mode: off\n"
     ]
    },
    {
     "name": "stderr",
     "output_type": "stream",
     "text": [
      " * Running on http://0.0.0.0:5000/ (Press CTRL+C to quit)\n",
      "127.0.0.1 - - [14/Mar/2020 09:33:08] \"\u001b[37mPOST / HTTP/1.1\u001b[0m\" 200 -\n"
     ]
    },
    {
     "name": "stdout",
     "output_type": "stream",
     "text": [
      "{\"mode\": \"active\", \"replyToken\": \"8260e6d7613e425f993e1cf1437a8767\", \"source\": {\"type\": \"user\", \"userId\": \"Ua88d33cc15e1f629a54b415df99c2d62\"}, \"timestamp\": 1584149592393, \"type\": \"follow\"}\n",
      "8260e6d7613e425f993e1cf1437a8767\n"
     ]
    },
    {
     "name": "stderr",
     "output_type": "stream",
     "text": [
      "127.0.0.1 - - [14/Mar/2020 09:33:13] \"\u001b[37mPOST / HTTP/1.1\u001b[0m\" 200 -\n",
      "127.0.0.1 - - [14/Mar/2020 09:38:33] \"\u001b[33mGET /Users/USER/PycharmProjects/YY_germination/YY_germination-master/line/YY/aaa.jpg HTTP/1.1\u001b[0m\" 404 -\n",
      "127.0.0.1 - - [14/Mar/2020 09:38:39] \"\u001b[33mGET /Users/USER/PycharmProjects/YY_germination/YY_germination-master/line/YY/aaa.jpg HTTP/1.1\u001b[0m\" 404 -\n",
      "127.0.0.1 - - [14/Mar/2020 09:38:44] \"\u001b[33mGET /Users/USER/PycharmProjects/YY_germination/YY_germination-master/line/YY/aaa.jpg HTTP/1.1\u001b[0m\" 404 -\n",
      "127.0.0.1 - - [14/Mar/2020 09:43:24] \"\u001b[33mGET /Users/USER/PycharmProjects/YY_germination/YY_germination-master/line/YY/aaa.jpg HTTP/1.1\u001b[0m\" 404 -\n",
      "127.0.0.1 - - [14/Mar/2020 10:47:12] \"\u001b[33mGET /Users/USER/PycharmProjects/YY_germination/YY_germination-master/line/YY/aaa.jpg HTTP/1.1\u001b[0m\" 404 -\n",
      "127.0.0.1 - - [14/Mar/2020 10:47:37] \"\u001b[33mGET /Users/USER/PycharmProjects/YY_germination/YY_germination-master/line/YY/aaa.jpg HTTP/1.1\u001b[0m\" 404 -\n",
      "127.0.0.1 - - [14/Mar/2020 10:47:40] \"\u001b[33mGET /Users/USER/PycharmProjects/YY_germination/YY_germination-master/line/YY/aaa.jpg HTTP/1.1\u001b[0m\" 404 -\n"
     ]
    },
    {
     "name": "stdout",
     "output_type": "stream",
     "text": [
      "{\"mode\": \"active\", \"replyToken\": \"f620237307604d16ade686baf627acfb\", \"source\": {\"type\": \"user\", \"userId\": \"Ubbff11f7cb4b9a9c3d63ed602e365acf\"}, \"timestamp\": 1584154077487, \"type\": \"follow\"}\n",
      "f620237307604d16ade686baf627acfb\n"
     ]
    },
    {
     "name": "stderr",
     "output_type": "stream",
     "text": [
      "127.0.0.1 - - [14/Mar/2020 10:47:58] \"\u001b[37mPOST / HTTP/1.1\u001b[0m\" 200 -\n",
      "127.0.0.1 - - [14/Mar/2020 10:52:21] \"\u001b[37mPOST / HTTP/1.1\u001b[0m\" 200 -\n",
      "127.0.0.1 - - [14/Mar/2020 10:52:22] \"\u001b[37mPOST / HTTP/1.1\u001b[0m\" 200 -\n"
     ]
    },
    {
     "name": "stdout",
     "output_type": "stream",
     "text": [
      "人工判別\n"
     ]
    },
    {
     "name": "stderr",
     "output_type": "stream",
     "text": [
      "127.0.0.1 - - [14/Mar/2020 10:52:24] \"\u001b[37mPOST / HTTP/1.1\u001b[0m\" 200 -\n",
      "127.0.0.1 - - [14/Mar/2020 10:52:24] \"\u001b[37mPOST / HTTP/1.1\u001b[0m\" 200 -\n"
     ]
    },
    {
     "name": "stdout",
     "output_type": "stream",
     "text": [
      "辨識發芽率\n"
     ]
    },
    {
     "name": "stderr",
     "output_type": "stream",
     "text": [
      "[2020-03-14 10:52:28,359] ERROR in app: Exception on / [POST]\n",
      "Traceback (most recent call last):\n",
      "  File \"D:\\python\\factory\\venv\\lib\\site-packages\\flask\\app.py\", line 2446, in wsgi_app\n",
      "    response = self.full_dispatch_request()\n",
      "  File \"D:\\python\\factory\\venv\\lib\\site-packages\\flask\\app.py\", line 1951, in full_dispatch_request\n",
      "    rv = self.handle_user_exception(e)\n",
      "  File \"D:\\python\\factory\\venv\\lib\\site-packages\\flask\\app.py\", line 1820, in handle_user_exception\n",
      "    reraise(exc_type, exc_value, tb)\n",
      "  File \"D:\\python\\factory\\venv\\lib\\site-packages\\flask\\_compat.py\", line 39, in reraise\n",
      "    raise value\n",
      "  File \"D:\\python\\factory\\venv\\lib\\site-packages\\flask\\app.py\", line 1949, in full_dispatch_request\n",
      "    rv = self.dispatch_request()\n",
      "  File \"D:\\python\\factory\\venv\\lib\\site-packages\\flask\\app.py\", line 1935, in dispatch_request\n",
      "    return self.view_functions[rule.endpoint](**req.view_args)\n",
      "  File \"<ipython-input-13-d1a84173d9f6>\", line 46, in callback\n",
      "    handler.handle(body, signature)\n",
      "  File \"D:\\python\\factory\\venv\\lib\\site-packages\\linebot\\webhook.py\", line 260, in handle\n",
      "    func(event)\n",
      "  File \"<ipython-input-19-8d48d118d414>\", line 23, in process_postback_event\n",
      "    result_message_array = detect_json_array_to_new_message_array(replyJsonPath)  # 呼叫回應檔\n",
      "  File \"<ipython-input-14-77f78c051525>\", line 30, in detect_json_array_to_new_message_array\n",
      "    with open(fileName,encoding=\"utf8\") as f:  # 在windows環境下執行須進行編碼才可讀取中文字 [encoding=\"utf8\"]\n",
      "FileNotFoundError: [Errno 2] No such file or directory: './YY/power1.json'\n",
      "127.0.0.1 - - [14/Mar/2020 10:52:28] \"\u001b[35m\u001b[1mPOST / HTTP/1.1\u001b[0m\" 500 -\n",
      "127.0.0.1 - - [14/Mar/2020 10:52:29] \"\u001b[37mPOST / HTTP/1.1\u001b[0m\" 200 -\n"
     ]
    },
    {
     "name": "stdout",
     "output_type": "stream",
     "text": [
      "權限檢視\n"
     ]
    },
    {
     "name": "stderr",
     "output_type": "stream",
     "text": [
      "127.0.0.1 - - [14/Mar/2020 10:52:43] \"\u001b[37mPOST / HTTP/1.1\u001b[0m\" 200 -\n",
      "127.0.0.1 - - [14/Mar/2020 10:52:45] \"\u001b[37mPOST / HTTP/1.1\u001b[0m\" 200 -\n"
     ]
    },
    {
     "name": "stdout",
     "output_type": "stream",
     "text": [
      "人工判別\n",
      "dict_values([['species=3G1']])\n",
      "{'species': ['3G1']}\n"
     ]
    },
    {
     "name": "stderr",
     "output_type": "stream",
     "text": [
      "127.0.0.1 - - [14/Mar/2020 10:52:54] \"\u001b[37mPOST / HTTP/1.1\u001b[0m\" 200 -\n",
      "127.0.0.1 - - [14/Mar/2020 10:52:54] \"\u001b[37mPOST / HTTP/1.1\u001b[0m\" 200 -\n"
     ]
    },
    {
     "name": "stdout",
     "output_type": "stream",
     "text": [
      "判斷芝麻葉(3G1)\n"
     ]
    },
    {
     "name": "stderr",
     "output_type": "stream",
     "text": [
      "127.0.0.1 - - [14/Mar/2020 11:51:44] \"\u001b[37mPOST / HTTP/1.1\u001b[0m\" 200 -\n"
     ]
    },
    {
     "name": "stdout",
     "output_type": "stream",
     "text": [
      "人工判別\n"
     ]
    },
    {
     "name": "stderr",
     "output_type": "stream",
     "text": [
      "127.0.0.1 - - [14/Mar/2020 11:51:45] \"\u001b[37mPOST / HTTP/1.1\u001b[0m\" 200 -\n"
     ]
    },
    {
     "name": "stdout",
     "output_type": "stream",
     "text": [
      "dict_values([['species=3G1']])\n",
      "{'species': ['3G1']}\n"
     ]
    },
    {
     "name": "stderr",
     "output_type": "stream",
     "text": [
      "127.0.0.1 - - [14/Mar/2020 11:51:52] \"\u001b[37mPOST / HTTP/1.1\u001b[0m\" 200 -\n",
      "127.0.0.1 - - [14/Mar/2020 11:51:52] \"\u001b[37mPOST / HTTP/1.1\u001b[0m\" 200 -\n"
     ]
    },
    {
     "name": "stdout",
     "output_type": "stream",
     "text": [
      "判斷芝麻葉(3G1)\n"
     ]
    }
   ],
   "source": [
    "'''\n",
    "\n",
    "Application 運行（開發版）\n",
    "\n",
    "'''\n",
    "if __name__ == \"__main__\":\n",
    "    app.run(host='0.0.0.0')"
   ]
  },
  {
   "cell_type": "code",
   "execution_count": null,
   "metadata": {},
   "outputs": [],
   "source": [
    "'''\n",
    "\n",
    "Application 運行（heroku版）\n",
    "\n",
    "'''\n",
    "\n",
    "# import os\n",
    "# if __name__ == \"__main__\":\n",
    "#     app.run(host='0.0.0.0',port=os.environ['PORT'])"
   ]
  },
  {
   "cell_type": "markdown",
   "metadata": {},
   "source": [
    "# 工作進度：\n",
    "* 2020/3/2\n",
    "    - 完成後台骨架與json模板\n",
    "    - 完成發芽率辨識1-3\n",
    "    \n",
    "* 2020/3/5\n",
    "    - 修改發芽率辨識模組(都用postback接收指令)\n",
    "    - 整理if else架構\n",
    "    \n",
    "* 問題\n",
    "    - 線下圖片檔(圖檔或代碼型態)如何讀取(已解決圖檔問題，代碼格式尚未測試)\n",
    "    - 每個動作紀錄於暫存檔時需紀錄操作者id，不可混淆不同人的操作歷程\n",
    "    \n",
    "    \n",
    "    "
   ]
  }
 ],
 "metadata": {
  "kernelspec": {
   "display_name": "Python 3",
   "language": "python",
   "name": "python3"
  },
  "language_info": {
   "codemirror_mode": {
    "name": "ipython",
    "version": 3
   },
   "file_extension": ".py",
   "mimetype": "text/x-python",
   "name": "python",
   "nbconvert_exporter": "python",
   "pygments_lexer": "ipython3",
   "version": "3.7.4"
  }
 },
 "nbformat": 4,
 "nbformat_minor": 4
}
