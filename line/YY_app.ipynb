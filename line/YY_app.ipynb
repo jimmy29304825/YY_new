{
 "cells": [
  {
   "cell_type": "code",
   "execution_count": null,
   "metadata": {},
   "outputs": [
    {
     "data": {
      "text/plain": [
       "'\\n\\n整體功能描述\\n\\n'"
      ]
     },
     "execution_count": 1,
     "metadata": {},
     "output_type": "execute_result"
    }
   ],
   "source": [
    "'''\n",
    "\n",
    "整體功能描述\n",
    "\n",
    "'''"
   ]
  },
  {
   "cell_type": "code",
   "execution_count": 2,
   "metadata": {},
   "outputs": [],
   "source": [
    "'''\n",
    "\n",
    "Application 主架構\n",
    "\n",
    "'''\n",
    "\n",
    "# 引用Web Server套件\n",
    "from flask import Flask, request, abort\n",
    "\n",
    "# 從linebot 套件包裡引用 LineBotApi 與 WebhookHandler 類別\n",
    "from linebot import (\n",
    "    LineBotApi, WebhookHandler\n",
    ")\n",
    "\n",
    "# 引用無效簽章錯誤\n",
    "from linebot.exceptions import (\n",
    "    InvalidSignatureError\n",
    ")\n",
    "\n",
    "# 載入json處理套件\n",
    "import json\n",
    "\n",
    "# 載入基礎設定檔\n",
    "secretFileContentJson=json.load(open(\"./line_secret_key\",'r'))  # 載入line_secret_key資訊\n",
    "server_url=secretFileContentJson.get(\"server_url\")  # 讀取webhooks網址\n",
    "\n",
    "# 設定Server啟用細節\n",
    "app = Flask(__name__,static_url_path = \"/python/factory/test/YY_new/line/YY\",   # url連結名稱(https://ngrok/static_url_path/)\n",
    "            static_folder = \"/python/factory/test/YY_new/line/YY\")  #  https://ngrok/static_url_path/對應到的local資料夾位置\n",
    "# 生成實體物件\n",
    "line_bot_api = LineBotApi(secretFileContentJson.get(\"channel_access_token\"))  # 讀取line channel_access_token\n",
    "handler = WebhookHandler(secretFileContentJson.get(\"secret_key\"))  # 讀取line secret_key\n",
    "\n",
    "# 啟動server對外接口，使Line能丟消息進來\n",
    "@app.route(\"/\", methods=['POST'])\n",
    "def callback():\n",
    "    # get X-Line-Signature header value\n",
    "    signature = request.headers['X-Line-Signature']\n",
    "\n",
    "    # get request body as text\n",
    "    body = request.get_data(as_text=True)\n",
    "    app.logger.info(\"Request body: \" + body)\n",
    "\n",
    "    # handle webhook body\n",
    "    try:\n",
    "        handler.handle(body, signature)\n",
    "    except InvalidSignatureError:\n",
    "        abort(400)\n",
    "\n",
    "    return 'OK'"
   ]
  },
  {
   "cell_type": "code",
   "execution_count": 3,
   "metadata": {},
   "outputs": [],
   "source": [
    "'''\n",
    "\n",
    "消息判斷器\n",
    "\n",
    "讀取指定的json檔案後，把json解析成不同格式的SendMessage\n",
    "\n",
    "讀取檔案，\n",
    "把內容轉換成json\n",
    "將json轉換成消息\n",
    "放回array中，並把array傳出。\n",
    "\n",
    "'''\n",
    "\n",
    "# 引用會用到的套件\n",
    "from linebot.models import (\n",
    "    ImagemapSendMessage,TextSendMessage,ImageSendMessage,LocationSendMessage,FlexSendMessage\n",
    ")\n",
    "\n",
    "from linebot.models.template import (\n",
    "    ButtonsTemplate,CarouselTemplate,ConfirmTemplate,ImageCarouselTemplate\n",
    "    \n",
    ")\n",
    "\n",
    "from linebot.models.template import *\n",
    "import sys, json\n",
    "\n",
    "def detect_json_array_to_new_message_array(fileName):\n",
    "    \n",
    "    #開啟檔案，轉成json\n",
    "    with open(fileName,encoding=\"utf8\") as f:  # 在windows環境下執行須進行編碼才可讀取中文字 [encoding=\"utf8\"]\n",
    "        jsonArray = json.load(f)\n",
    "    \n",
    "    # 解析json\n",
    "    returnArray = []\n",
    "    for jsonObject in jsonArray:\n",
    "\n",
    "        # 讀取其用來判斷的元件\n",
    "        message_type = jsonObject.get('type')\n",
    "        \n",
    "        # 轉換，判斷讀取的json檔是哪一種line格式\n",
    "        if message_type == 'text':\n",
    "            returnArray.append(TextSendMessage.new_from_json_dict(jsonObject))\n",
    "        elif message_type == 'imagemap':\n",
    "            returnArray.append(ImagemapSendMessage.new_from_json_dict(jsonObject))\n",
    "        elif message_type == 'template':\n",
    "            returnArray.append(TemplateSendMessage.new_from_json_dict(jsonObject))\n",
    "        elif message_type == 'image':\n",
    "            returnArray.append(ImageSendMessage.new_from_json_dict(jsonObject))\n",
    "        elif message_type == 'sticker':\n",
    "            returnArray.append(StickerSendMessage.new_from_json_dict(jsonObject))  \n",
    "        elif message_type == 'audio':\n",
    "            returnArray.append(AudioSendMessage.new_from_json_dict(jsonObject))  \n",
    "        elif message_type == 'location':\n",
    "            returnArray.append(LocationSendMessage.new_from_json_dict(jsonObject))\n",
    "        elif message_type == 'flex':\n",
    "            returnArray.append(FlexSendMessage.new_from_json_dict(jsonObject))    \n",
    "\n",
    "    # 回傳\n",
    "    return returnArray"
   ]
  },
  {
   "cell_type": "code",
   "execution_count": 4,
   "metadata": {},
   "outputs": [],
   "source": [
    "import pymysql\n",
    "# 儲存使用者資料\n",
    "def user_follow(line_id, user_name, right_id):\n",
    "    # 連線資料庫\n",
    "    db = pymysql.connect(host='127.0.0.1',\n",
    "                         port=3306,\n",
    "                         user='yy_jimmy',\n",
    "                         password='yyjimmy',\n",
    "                         db='yyostech')\n",
    "    # 建立連線物件\n",
    "    cursor = db.cursor()\n",
    "    sql_insert_blob_query = \"\"\"select `line_id` from user_profile where `line_id` = %s\"\"\"\n",
    "    insert_blob_tuple1 = (line_id, )\n",
    "    cursor.execute(sql_insert_blob_query, insert_blob_tuple1)\n",
    "    data = cursor.fetchone()\n",
    "    if data == None:\n",
    "        # user_profile\n",
    "        sql_insert_blob_query = \"\"\"INSERT INTO user_profile (`line_id`, `user_name`, `right_id`) VALUES (%s, %s, %s)\"\"\"\n",
    "        insert_blob_tuple2 = (line_id, user_name, right_id)\n",
    "        cursor.execute(sql_insert_blob_query, insert_blob_tuple2)\n",
    "        # 確認執行上述指令\n",
    "        result = db.commit()\n",
    "        # 關閉資料庫連線\n",
    "        db.close()\n",
    "    else:\n",
    "        result = 'user exist'\n",
    "    return result\n",
    "\n",
    "\n",
    "def get_menu_id(line_id):\n",
    "    # 連線資料庫\n",
    "    db = pymysql.connect(host='127.0.0.1',\n",
    "                         port=3306,\n",
    "                         user='yy_jimmy',\n",
    "                         password='yyjimmy',\n",
    "                         db='yyostech')\n",
    "    # 建立連線物件\n",
    "    cursor = db.cursor()\n",
    "    # user_profile\n",
    "    sql_insert_blob_query = \"\"\"select b.menu_id from user_profile a inner join user_right b on a.right_id = b.right_id and a.line_id = %s\"\"\"\n",
    "    insert_blob_tuple = (line_id, )\n",
    "    cursor.execute(sql_insert_blob_query, insert_blob_tuple)\n",
    "    data = cursor.fetchone()\n",
    "    # 關閉資料庫連線\n",
    "    db.close()\n",
    "    return data[0]\n"
   ]
  },
  {
   "cell_type": "code",
   "execution_count": 5,
   "metadata": {},
   "outputs": [],
   "source": [
    "from yyGermination import connect, par, germination\n",
    "connect = connect('127.0.0.1', 3306, 'yy_jimmy', 'yyjimmy', 'yyostech')\n",
    "par = par(\"192.168.0.30\",22,\"pi\", \"Jimmy8193026\")"
   ]
  },
  {
   "cell_type": "code",
   "execution_count": 6,
   "metadata": {},
   "outputs": [],
   "source": [
    "'''\n",
    "\n",
    "撰寫用戶關注時，我們要處理的商業邏輯\n",
    "\n",
    "1. 取得用戶個資，並存回伺服器\n",
    "2. 把先前製作好的自定義菜單，與用戶做綁定\n",
    "3. 回應用戶，歡迎用的文字消息與圖片消息\n",
    "\n",
    "'''\n",
    "\n",
    "# 將消息模型，文字收取消息與文字寄發消息 引入\n",
    "from linebot.models import (\n",
    "    MessageEvent, TextMessage, TextSendMessage, ImageSendMessage\n",
    ")\n",
    "# 載入Follow事件\n",
    "from linebot.models.events import (\n",
    "    FollowEvent\n",
    ")\n",
    "\n",
    "# 載入requests套件\n",
    "import requests\n",
    "\n",
    "# 消息清單\n",
    "reply_message_list = [\n",
    "    TextSendMessage(text=\"您好! 歡迎使用研耘發芽率辨識操作的頻道\")\n",
    "]\n",
    "\n",
    "# 告知handler，如果收到FollowEvent，則做下面的方法處理\n",
    "@handler.add(FollowEvent)\n",
    "def reply_text_and_get_user_profile(event):\n",
    "    # 取出消息內User的資料\n",
    "    user_profile = line_bot_api.get_profile(event.source.user_id)\n",
    "    line_id = eval(str(user_profile))['userId']\n",
    "    user_name = eval(str(user_profile))['displayName']\n",
    "    right_id = 0  # 測試權限  \n",
    "    print(line_id, user_name, right_id)\n",
    "    connect.user_follow(line_id, user_name, right_id)\n",
    "    \n",
    "    # 將菜單綁定在用戶身上\n",
    "    linkRichMenuId = connect.get_menu_id(line_id)\n",
    "    linkMenuEndpoint='https://api.line.me/v2/bot/user/%s/richmenu/%s' % (event.source.user_id, linkRichMenuId)  # 指定user_id檔定rich_menu_id\n",
    "    linkMenuRequestHeader={'Content-Type':'image/png','Authorization':'Bearer %s' % secretFileContentJson[\"channel_access_token\"]}  # request header資訊(含channel_access_token)\n",
    "    lineLinkMenuResponse=requests.post(linkMenuEndpoint,headers=linkMenuRequestHeader)  # 致行榜定圖文選單的命令\n",
    "    \n",
    "    # 回覆文字消息與圖片消息(綁定圖文選單與回文是不同的指令喔~~)\n",
    "    line_bot_api.reply_message(\n",
    "        event.reply_token,\n",
    "        reply_message_list\n",
    "    )"
   ]
  },
  {
   "cell_type": "code",
   "execution_count": 7,
   "metadata": {},
   "outputs": [],
   "source": [
    "'''\n",
    "\n",
    "handler處理文字消息\n",
    "\n",
    "收到用戶回應的文字消息，\n",
    "按文字消息內容，往素材資料夾中，找尋以該內容命名的資料夾，讀取裡面的reply.json\n",
    "\n",
    "轉譯json後，將消息回傳給用戶\n",
    "\n",
    "'''\n",
    "import time\n",
    "# 引用套件\n",
    "from linebot.models import (\n",
    "    MessageEvent, TextMessage\n",
    ")\n",
    "\n",
    "# 文字消息處理\n",
    "@handler.add(MessageEvent,message=TextMessage)\n",
    "def process_text_message(event):\n",
    "    if gerData['saw_date'] != None and gerData['done'] == 0:  # 3收到種子批號，回覆：請確認資料\n",
    "        if len(event.message.text) == 10:  # 確認種子批號的資料格式\n",
    "            gerData['seed_numbers'] = event.message.text  # 種子批號\n",
    "            gerData['done'] = 1  # 紀錄完成\n",
    "            \n",
    "            result_message_array =[]\n",
    "            replyJsonPath = \"./YY/ger4.json\"\n",
    "            result_message_array = detect_json_array_to_new_message_array(replyJsonPath)\n",
    "            text_tuple = (gerData['series_id'], gerData['series_name'], gerData['saw_date'], gerData['seed_numbers'])\n",
    "            result_message_array[0].template.text = (result_message_array[0].template.text % text_tuple)\n",
    "            line_bot_api.reply_message(event.reply_token, result_message_array)\n",
    "            \n",
    "        else:  # 批號資料錯誤重新輸入\n",
    "            result_message_array =[]\n",
    "            replyJsonPath = './YY/ger3.json'\n",
    "            result_message_array = detect_json_array_to_new_message_array(replyJsonPath)\n",
    "            line_bot_api.reply_message(event.reply_token, result_message_array)\n",
    "            \n",
    "        print(gerData)\n",
    "    else:\n",
    "        print(event.message.text)"
   ]
  },
  {
   "cell_type": "code",
   "execution_count": 1,
   "metadata": {},
   "outputs": [],
   "source": [
    "gerData = {'process_id': None, 'series_id':None, 'series_name':None, 'seed_numbers':None, 'identify_date':None, 'saw_date': None, 'done': None, 'threshold': None, 'germination_percent': None, 'photo_id': None}  # 作為執行發芽率辨識的暫存物件\n",
    "humanData = {'series_id':None, 'series_name': None, 'data': [], 'result': []}  # 作為執行人工判別的暫存物件0-10\n",
    "# addData\n",
    "# tableData\n",
    "# powerData\n",
    "# problemData"
   ]
  },
  {
   "cell_type": "code",
   "execution_count": 9,
   "metadata": {},
   "outputs": [],
   "source": [
    "'''\n",
    "\n",
    "handler處理Postback Event\n",
    "\n",
    "載入功能選單與啟動特殊功能\n",
    "\n",
    "解析postback的data，並按照data欄位判斷處理\n",
    "\n",
    "'''\n",
    "from linebot.models import (\n",
    "    PostbackEvent\n",
    ")\n",
    "\n",
    "from urllib.parse import parse_qs \n",
    "from datetime import datetime\n",
    "import cv2\n",
    "\n",
    "@handler.add(PostbackEvent)\n",
    "def process_postback_event(event):\n",
    "    global gerData\n",
    "    global humanData\n",
    "    global series\n",
    "    global image\n",
    "    dict1 = parse_qs(event.postback.data)\n",
    "    if 'start' == list(dict1.keys())[0]:  # 0圖文選單，第一層動作判斷(start)\n",
    "        func = list(dict1.values())[0][0]\n",
    "        if func == 'ger1' or func == 'human1':  # 辨識發芽率跟人工判別\n",
    "            series = connect.get_series()\n",
    "            result_message_array =[]\n",
    "            replyJsonPath = './YY/' + func + '.json'  # 回應檔路徑\n",
    "            result_message_array = detect_json_array_to_new_message_array(replyJsonPath)  # 呼叫回應檔\n",
    "            for x, i in enumerate(result_message_array[0].template.columns[:-1]):\n",
    "                i.thumbnail_image_url = series[x][2]\n",
    "                i.title = series[x][1]\n",
    "                i.text = series[x][0]\n",
    "                i.actions[0].text = series[x][0]\n",
    "                i.actions[0].data = 'ger=getdate=' + series[x][0]\n",
    "            line_bot_api.reply_message(event.reply_token, result_message_array)  # post回應\n",
    "        \n",
    "    if 'ger' in list(dict1.keys())[0]:  # 發芽率辨識\n",
    "        print(dict1.values())\n",
    "        dict2 = parse_qs(list(dict1.values())[0][0])\n",
    "        print(dict2)\n",
    "        \n",
    "        if 'getdate' in list(dict2.keys())[0]:  # 1選擇了作物編號，回覆：請輸入播種日期\n",
    "            gerData['series_id'] = list(dict2.values())[0][0]  # 作物編號\n",
    "            gerData['identify_date'] = datetime.now().strftime(\"%Y-%m-%d %H:%M:%S\")  # 程序開始時間\n",
    "            for i in series:\n",
    "                if gerData['series_id'] in i:\n",
    "                    gerData['series_name'] = i[1]\n",
    "            print(gerData)\n",
    "            \n",
    "            result_message_array =[]\n",
    "            replyJsonPath = './YY/ger2.json'\n",
    "            result_message_array = detect_json_array_to_new_message_array(replyJsonPath)\n",
    "            result_message_array[0].template.text = (result_message_array[0].template.text % (gerData['series_id'], gerData['series_name']))\n",
    "            line_bot_api.reply_message(event.reply_token, result_message_array)\n",
    "            \n",
    "        if 'selectDate' in list(dict2.keys())[0]:  # 2收到播種日期，回覆：請輸入種子批號\n",
    "            gerData['saw_date'] = event.postback.params['date']  # 播種日期\n",
    "            gerData['done'] = 0  # 紀錄可以進入下一階段\n",
    "            print(gerData)\n",
    "            \n",
    "            result_message_array =[]\n",
    "            replyJsonPath = './YY/ger3.json'\n",
    "            result_message_array = detect_json_array_to_new_message_array(replyJsonPath)\n",
    "            line_bot_api.reply_message(event.reply_token, result_message_array)\n",
    "            \n",
    "        if 'confirm' in list(dict2.keys())[0]:  # 4確認種子批號，回覆：請就位準備拍照\n",
    "            print('get data from series_data')  # 從資料庫抓辨識用的參數\n",
    "            gerData['process_id'] = 'processTest' + str(datetime.now().strftime(\"%Y%m%d%H%M%S\"))\n",
    "            for i in series:\n",
    "                if gerData['series_id'] == i[0]:\n",
    "                    gerData['threshold'] = i[3]\n",
    "                    gerData['germination_percent'] = i[4]\n",
    "            connect.save_process(gerData)\n",
    "            result_message_array =[]\n",
    "            replyJsonPath = './YY/ger5.json'\n",
    "            result_message_array = detect_json_array_to_new_message_array(replyJsonPath)\n",
    "            line_bot_api.reply_message(event.reply_token, result_message_array)\n",
    "        if 'retype' in list(dict2.keys())[0]:  # 4a資料有錯重來\n",
    "            gerData = {'process_id': None, 'series_id':None, 'seed_numbers':None, 'identify_date':None, 'saw_date': None, 'done': None, 'threshold': None, 'germination_percent': None}  # 作為執行發芽率辨識的暫存物件\n",
    "\n",
    "        if 'shot' in list(dict2.keys())[0]:  # 5開始拍照，回覆：請確認拍照成像\n",
    "            photo_id = 'raspi' + str(datetime.now().strftime(\"%Y%m%d%H%M%S\")) # 產生raspi_data照片編號\n",
    "            gerData['photo_id'] = photo_id\n",
    "            result = par.connect_raspi(photo_id)  # 呼叫樹莓派拍照\n",
    "            print(result, photo_id)\n",
    "            image = connect.get_raspi_data(photo_id)  # 抓剛剛存到資料庫的照片(顯示(image_show)跟使用(image)的分開存)\n",
    "            result_message_array =[]\n",
    "            replyJsonPath = './YY/ger6.json'\n",
    "            result_message_array = detect_json_array_to_new_message_array(replyJsonPath)\n",
    "            line_bot_api.reply_message(event.reply_token, result_message_array)\n",
    "                \n",
    "        if 'check' in list(dict2.keys())[0]:  # 6確認成像正常，回覆：辨識結果簡述\n",
    "            print('模型辨識回傳結果、回存資料庫')\n",
    "            ger = germination(gerData['series_id'], gerData['threshold'], gerData['germination_percent'])\n",
    "            image = cv2.imread(\"./YY/3G1_rect1.jpg\", cv2.IMREAD_COLOR)\n",
    "            result = ger.get_photo(image)\n",
    "            n = 0\n",
    "            m = 0\n",
    "            for i in ger.result_list:\n",
    "                if i[3] == 1:\n",
    "                    n = n + 1\n",
    "                else:\n",
    "                    m = m + 1\n",
    "            germiantion_id = 'germiantionTest' + str(datetime.now().strftime(\"%Y%m%d%H%M%S\"))\n",
    "            ger_data = [germiantion_id, gerData['process_id'], gerData['photo_id'], image, result, len(ger.result_list)]\n",
    "            connect.save_germination_record(ger_data, ger.result_list)\n",
    "            result_message_array =[]\n",
    "            replyJsonPath = './YY/ger7.json'\n",
    "            result_message_array = detect_json_array_to_new_message_array(replyJsonPath)\n",
    "            title_result = (gerData['series_id'], result, '%')\n",
    "            result_message_array[0].template.title = (result_message_array[0].template.title % title_result)\n",
    "            result_message_array[0].template.text = (result_message_array[0].template.text % (n, m))\n",
    "            \n",
    "            line_bot_api.reply_message(event.reply_token, result_message_array)\n",
    "            \n",
    "        if 'stop' in list(dict2.keys())[0]:  # 7確認停止辨識，回覆：本次流程辨識結果一覽\n",
    "            # 抓取這一批process_id的所有辨識紀錄\n",
    "            print('get this process_id\\'s data')\n",
    "            # reset dict\n",
    "            result = connect.get_result(gerData['process_id'])\n",
    "            result_message_array =[]\n",
    "            replyJsonPath = './YY/ger8.json'\n",
    "            result_message_array = detect_json_array_to_new_message_array(replyJsonPath)\n",
    "            result_message_array[0].text = (result_message_array[0].text % (result[1], gerData['series_id'], \n",
    "                                                                            gerData['series_name'], \n",
    "                                                                            float(result[5]), \n",
    "                                                                            '%', \n",
    "                                                                            result[2], \n",
    "                                                                            result[4]))\n",
    "            line_bot_api.reply_message(event.reply_token, result_message_array)\n",
    "            gerData = {'process_id': None, 'series_id':None, 'seed_numbers':None, 'identify_date':None, 'saw_date': None, 'done': None, 'threshold': None, 'germination_percent': None}  # 作為執行發芽率辨識的暫存物件\n",
    "\n",
    "            \n",
    "    if 'human' in list(dict1.keys())[0]:  # 人工判別\n",
    "        print(dict1.values())\n",
    "        dict2 = parse_qs(list(dict1.values())[0][0])\n",
    "        print(dict2)\n",
    "        if 'species' in list(dict2.keys())[0]:  # 確認判別的品種\n",
    "            humanData['series_id'] = list(dict2.values())[0][0]\n",
    "            for i in series:\n",
    "                if i[0] == humanData['series_id']:\n",
    "                    humanData['series_name'] = i[1]\n",
    "                    \n",
    "            humanData['data'] = connect.artificial_identify(humanData['series_id'])\n",
    "            numbers = len(humanData['result'])\n",
    "            humanData['result'] = humanData['result'].append([humanData['data'][numbers][0], 0])\n",
    "            \n",
    "            nparr = np.fromstring(humanData['data'][numbers][1], np.uint8)\n",
    "            frame = cv2.imdecode(nparr, cv2.IMREAD_COLOR)\n",
    "            previewSize = (int(round(frame.shape[1]/15, 0)), int(round(frame.shape[0]/15, 0)))\n",
    "            previewImage = cv2.resize(frame, previewSize)\n",
    "            cv2.imwrite(\".\\YY\\artificial.jpg\", previewImage)\n",
    "            \n",
    "            replyJsonPath = './YY/human2.json'  # 回應檔路徑\n",
    "            result_message_array = detect_json_array_to_new_message_array(replyJsonPath)  # 呼叫回應檔\n",
    "            title = (humanData['series_id'], humanData['series_name'])\n",
    "            result_message_array[1].template.text = (result_message_array[1].template.text % numbers + 1)\n",
    "            result_message_array[1].template.title = (result_message_array[1].template.title % title)\n",
    "            line_bot_api.reply_message(event.reply_token, result_message_array)  # post回應\n",
    "        \n",
    "        if 'check' in list(dict2.keys())[0] and len(humanData['result']) <= 9:  # 確認判斷的數量\n",
    "            numbers = len(humanData['result'])\n",
    "            humanData['result'][numbers] = humanData['result'][numbers].append(list(dict2.values())[0][0])\n",
    "            \n",
    "            replyJsonPath = './YY/human2.json'  # 回應檔路徑\n",
    "            result_message_array = detect_json_array_to_new_message_array(replyJsonPath)  # 呼叫回應檔\n",
    "            numbers = len(humanData['result']) + 1\n",
    "            title = (humanData['series_id'], humanData['series_name'])\n",
    "            result_message_array[1].template.text = (result_message_array[1].template.text % numbers)\n",
    "            result_message_array[1].template.title = (result_message_array[1].template.title % title)\n",
    "            line_bot_api.reply_message(event.reply_token, result_message_array)  # post回應\n",
    "            \n",
    "        if 'check' in list(dict2.keys())[0] and humanData['done'] == 10:  # 判斷是否停止\n",
    "            print(list(dict2.values())[0][0])\n",
    "            print(humanData['done'], 'done')\n",
    "            replyJsonPath = './YY/human4.json'  # 回應檔路徑\n",
    "            result_message_array = detect_json_array_to_new_message_array(replyJsonPath)  # 呼叫回應檔\n",
    "            # 回傳整體辨識結果(文字)\n",
    "            line_bot_api.reply_message(event.reply_token, result_message_array)  # post回應\n",
    "            \n",
    "        if 'continue' in list(dict2.keys())[0]:\n",
    "            if 'yes' in list(dict2.values())[0][0]:  # 繼續在辨識十張照片\n",
    "                humanData['done'] = 0\n",
    "                replyJsonPath = './YY/human2.json'  # 回應檔路徑\n",
    "                result_message_array = detect_json_array_to_new_message_array(replyJsonPath)  # 呼叫回應檔\n",
    "                # 回傳整體辨識結果(文字)\n",
    "                line_bot_api.reply_message(event.reply_token, result_message_array)  # post回應\n",
    "                \n",
    "            if 'no' in list(dict2.values())[0][0]:  # 停止辨識並儲存\n",
    "                humanData['done'] = 0\n",
    "                replyJsonPath = './YY/human5.json'  # 回應檔路徑\n",
    "                result_message_array = detect_json_array_to_new_message_array(replyJsonPath)  # 呼叫回應檔\n",
    "                # 回傳整體辨識結果(文字)\n",
    "                line_bot_api.reply_message(event.reply_token, result_message_array)  # post回應"
   ]
  },
  {
   "cell_type": "code",
   "execution_count": 10,
   "metadata": {
    "scrolled": true
   },
   "outputs": [
    {
     "name": "stdout",
     "output_type": "stream",
     "text": [
      " * Serving Flask app \"__main__\" (lazy loading)\n",
      " * Environment: production\n",
      "   WARNING: This is a development server. Do not use it in a production deployment.\n",
      "   Use a production WSGI server instead.\n",
      " * Debug mode: off\n"
     ]
    },
    {
     "name": "stderr",
     "output_type": "stream",
     "text": [
      " * Running on http://0.0.0.0:5000/ (Press CTRL+C to quit)\n",
      "127.0.0.1 - - [25/Mar/2020 14:06:03] \"\u001b[37mPOST / HTTP/1.1\u001b[0m\" 200 -\n",
      "127.0.0.1 - - [25/Mar/2020 14:06:04] \"\u001b[37mPOST / HTTP/1.1\u001b[0m\" 200 -\n"
     ]
    },
    {
     "name": "stdout",
     "output_type": "stream",
     "text": [
      "辨識發芽率\n",
      "dict_values([['getdate=3G1']])\n",
      "{'getdate': ['3G1']}\n",
      "{'process_id': None, 'series_id': '3G1', 'series_name': '芝麻葉', 'seed_numbers': None, 'identify_date': '2020-03-25 14:06:08', 'saw_date': None, 'done': None, 'threshold': None, 'germination_percent': None, 'photo_id': None}\n"
     ]
    },
    {
     "name": "stderr",
     "output_type": "stream",
     "text": [
      "127.0.0.1 - - [25/Mar/2020 14:06:09] \"\u001b[37mPOST / HTTP/1.1\u001b[0m\" 200 -\n",
      "127.0.0.1 - - [25/Mar/2020 14:06:10] \"\u001b[37mPOST / HTTP/1.1\u001b[0m\" 200 -\n"
     ]
    },
    {
     "name": "stdout",
     "output_type": "stream",
     "text": [
      "3G1\n"
     ]
    },
    {
     "name": "stderr",
     "output_type": "stream",
     "text": [
      "127.0.0.1 - - [25/Mar/2020 14:06:12] \"\u001b[37mPOST / HTTP/1.1\u001b[0m\" 200 -\n"
     ]
    },
    {
     "name": "stdout",
     "output_type": "stream",
     "text": [
      "dict_values([['selectDate=ger3']])\n",
      "{'selectDate': ['ger3']}\n",
      "{'process_id': None, 'series_id': '3G1', 'series_name': '芝麻葉', 'seed_numbers': None, 'identify_date': '2020-03-25 14:06:08', 'saw_date': '2020-02-26', 'done': 0, 'threshold': None, 'germination_percent': None, 'photo_id': None}\n"
     ]
    },
    {
     "name": "stderr",
     "output_type": "stream",
     "text": [
      "127.0.0.1 - - [25/Mar/2020 14:06:17] \"\u001b[37mPOST / HTTP/1.1\u001b[0m\" 200 -\n"
     ]
    },
    {
     "name": "stdout",
     "output_type": "stream",
     "text": [
      "{'process_id': None, 'series_id': '3G1', 'series_name': '芝麻葉', 'seed_numbers': '9496002255', 'identify_date': '2020-03-25 14:06:08', 'saw_date': '2020-02-26', 'done': 1, 'threshold': None, 'germination_percent': None, 'photo_id': None}\n",
      "dict_values([['confirm=ger5']])\n",
      "{'confirm': ['ger5']}\n",
      "get data from series_data\n"
     ]
    },
    {
     "name": "stderr",
     "output_type": "stream",
     "text": [
      "127.0.0.1 - - [25/Mar/2020 14:06:20] \"\u001b[37mPOST / HTTP/1.1\u001b[0m\" 200 -\n",
      "127.0.0.1 - - [25/Mar/2020 14:06:21] \"\u001b[37mPOST / HTTP/1.1\u001b[0m\" 200 -\n"
     ]
    },
    {
     "name": "stdout",
     "output_type": "stream",
     "text": [
      "確定\n",
      "dict_values([['shot=ger6']])\n",
      "{'shot': ['ger6']}\n",
      "['OK\\n']\n",
      "['OK\\n'] raspi20200325140621\n"
     ]
    },
    {
     "name": "stderr",
     "output_type": "stream",
     "text": [
      "127.0.0.1 - - [25/Mar/2020 14:06:28] \"\u001b[37mPOST / HTTP/1.1\u001b[0m\" 200 -\n"
     ]
    },
    {
     "name": "stdout",
     "output_type": "stream",
     "text": [
      "拍照\n"
     ]
    },
    {
     "name": "stderr",
     "output_type": "stream",
     "text": [
      "127.0.0.1 - - [25/Mar/2020 14:06:29] \"\u001b[37mGET /python/factory/test/YY_new/line/YY/preview.jpg HTTP/1.1\u001b[0m\" 200 -\n"
     ]
    },
    {
     "name": "stdout",
     "output_type": "stream",
     "text": [
      "dict_values([['check=yes']])\n",
      "{'check': ['yes']}\n",
      "模型辨識回傳結果、回存資料庫\n",
      "裁切照片\n"
     ]
    },
    {
     "name": "stderr",
     "output_type": "stream",
     "text": [
      "D:\\python\\factory\\venv\\lib\\site-packages\\pymysql\\cursors.py:170: Warning: (1300, \"Invalid utf8mb4 character string: 'FFD8FF'\")\n",
      "  result = self._query(query)\n",
      "127.0.0.1 - - [25/Mar/2020 14:06:35] \"\u001b[37mPOST / HTTP/1.1\u001b[0m\" 200 -\n",
      "127.0.0.1 - - [25/Mar/2020 14:06:35] \"\u001b[37mPOST / HTTP/1.1\u001b[0m\" 200 -\n"
     ]
    },
    {
     "name": "stdout",
     "output_type": "stream",
     "text": [
      "確認\n",
      "dict_values([['shot=loop']])\n",
      "{'shot': ['loop']}\n"
     ]
    },
    {
     "name": "stderr",
     "output_type": "stream",
     "text": [
      "127.0.0.1 - - [25/Mar/2020 14:07:24] \"\u001b[37mPOST / HTTP/1.1\u001b[0m\" 200 -\n"
     ]
    },
    {
     "name": "stdout",
     "output_type": "stream",
     "text": [
      "拍下一張\n",
      "['OK\\n']\n",
      "['OK\\n'] raspi20200325140722\n"
     ]
    },
    {
     "name": "stderr",
     "output_type": "stream",
     "text": [
      "127.0.0.1 - - [25/Mar/2020 14:07:28] \"\u001b[37mPOST / HTTP/1.1\u001b[0m\" 200 -\n",
      "127.0.0.1 - - [25/Mar/2020 14:07:30] \"\u001b[37mGET /python/factory/test/YY_new/line/YY/preview.jpg HTTP/1.1\u001b[0m\" 200 -\n"
     ]
    },
    {
     "name": "stdout",
     "output_type": "stream",
     "text": [
      "dict_values([['check=yes']])\n",
      "{'check': ['yes']}\n",
      "模型辨識回傳結果、回存資料庫\n",
      "裁切照片\n"
     ]
    },
    {
     "name": "stderr",
     "output_type": "stream",
     "text": [
      "127.0.0.1 - - [25/Mar/2020 14:07:33] \"\u001b[37mPOST / HTTP/1.1\u001b[0m\" 200 -\n",
      "127.0.0.1 - - [25/Mar/2020 14:07:33] \"\u001b[37mPOST / HTTP/1.1\u001b[0m\" 200 -\n"
     ]
    },
    {
     "name": "stdout",
     "output_type": "stream",
     "text": [
      "確認\n",
      "dict_values([['shot=loop']])\n",
      "{'shot': ['loop']}\n"
     ]
    },
    {
     "name": "stderr",
     "output_type": "stream",
     "text": [
      "127.0.0.1 - - [25/Mar/2020 14:08:20] \"\u001b[37mPOST / HTTP/1.1\u001b[0m\" 200 -\n"
     ]
    },
    {
     "name": "stdout",
     "output_type": "stream",
     "text": [
      "拍下一張\n",
      "['OK\\n']\n",
      "['OK\\n'] raspi20200325140819\n"
     ]
    },
    {
     "name": "stderr",
     "output_type": "stream",
     "text": [
      "127.0.0.1 - - [25/Mar/2020 14:08:25] \"\u001b[37mPOST / HTTP/1.1\u001b[0m\" 200 -\n",
      "127.0.0.1 - - [25/Mar/2020 14:08:26] \"\u001b[37mGET /python/factory/test/YY_new/line/YY/preview.jpg HTTP/1.1\u001b[0m\" 200 -\n"
     ]
    },
    {
     "name": "stdout",
     "output_type": "stream",
     "text": [
      "dict_values([['check=yes']])\n",
      "{'check': ['yes']}\n",
      "模型辨識回傳結果、回存資料庫\n",
      "裁切照片\n"
     ]
    },
    {
     "name": "stderr",
     "output_type": "stream",
     "text": [
      "127.0.0.1 - - [25/Mar/2020 14:08:29] \"\u001b[37mPOST / HTTP/1.1\u001b[0m\" 200 -\n",
      "127.0.0.1 - - [25/Mar/2020 14:08:30] \"\u001b[37mPOST / HTTP/1.1\u001b[0m\" 200 -\n"
     ]
    },
    {
     "name": "stdout",
     "output_type": "stream",
     "text": [
      "確認\n"
     ]
    },
    {
     "name": "stderr",
     "output_type": "stream",
     "text": [
      "127.0.0.1 - - [25/Mar/2020 14:08:30] \"\u001b[37mGET /python/factory/test/YY_new/line/YY/3G1_rect1.jpg HTTP/1.1\u001b[0m\" 200 -\n",
      "127.0.0.1 - - [25/Mar/2020 14:08:36] \"\u001b[37mPOST / HTTP/1.1\u001b[0m\" 200 -\n"
     ]
    },
    {
     "name": "stdout",
     "output_type": "stream",
     "text": [
      "結束拍攝\n",
      "dict_values([['stop=ger7']])\n",
      "{'stop': ['ger7']}\n",
      "get this process_id's data\n"
     ]
    },
    {
     "name": "stderr",
     "output_type": "stream",
     "text": [
      "127.0.0.1 - - [25/Mar/2020 14:08:37] \"\u001b[37mPOST / HTTP/1.1\u001b[0m\" 200 -\n"
     ]
    }
   ],
   "source": [
    "'''\n",
    "\n",
    "Application 運行（開發版）\n",
    "\n",
    "'''\n",
    "if __name__ == \"__main__\":\n",
    "    app.run(host='0.0.0.0')"
   ]
  },
  {
   "cell_type": "code",
   "execution_count": null,
   "metadata": {},
   "outputs": [
    {
     "data": {
      "text/plain": [
       "'\\n\\nApplication 運行（heroku版）\\n\\n'"
      ]
     },
     "execution_count": 11,
     "metadata": {},
     "output_type": "execute_result"
    }
   ],
   "source": [
    "'''\n",
    "\n",
    "Application 運行（heroku版）\n",
    "\n",
    "'''\n",
    "\n",
    "# import os\n",
    "# if __name__ == \"__main__\":\n",
    "#     app.run(host='0.0.0.0',port=os.environ['PORT'])"
   ]
  },
  {
   "cell_type": "markdown",
   "metadata": {},
   "source": [
    "# 工作進度：\n",
    "* 2020/3/2\n",
    "    - 完成後台骨架與json模板\n",
    "    - 完成發芽率辨識1-3\n",
    "    \n",
    "* 2020/3/5\n",
    "    - 修改發芽率辨識模組(都用postback接收指令)\n",
    "    - 整理if else架構\n",
    "    \n",
    "* 問題\n",
    "    - 線下圖片檔(圖檔或代碼型態)如何讀取(已解決圖檔問題，代碼格式尚未測試)\n",
    "    - 每個動作紀錄於暫存檔時需紀錄操作者id，不可混淆不同人的操作歷程\n",
    "    \n",
    "    \n",
    "    "
   ]
  }
 ],
 "metadata": {
  "kernelspec": {
   "display_name": "Python 3",
   "language": "python",
   "name": "python3"
  },
  "language_info": {
   "codemirror_mode": {
    "name": "ipython",
    "version": 3
   },
   "file_extension": ".py",
   "mimetype": "text/x-python",
   "name": "python",
   "nbconvert_exporter": "python",
   "pygments_lexer": "ipython3",
   "version": "3.7.4"
  }
 },
 "nbformat": 4,
 "nbformat_minor": 4
}
