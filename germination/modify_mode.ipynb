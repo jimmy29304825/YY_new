{
 "cells": [
  {
   "cell_type": "code",
   "execution_count": null,
   "metadata": {},
   "outputs": [],
   "source": [
    "import cv2\n",
    "import numpy as np\n",
    "from matplotlib import pyplot as plt\n",
    "import time\n",
    "import datetime\n",
    "%matplotlib inline"
   ]
  },
  {
   "cell_type": "code",
   "execution_count": null,
   "metadata": {},
   "outputs": [],
   "source": [
    "# 調整高斯參數\n",
    "kernel_size = (3, 3)  # 高斯模糊矩陣大小\n",
    "sigma =3 # 高斯模糊標準差參數(0=自動)\n",
    "# slice_img = cv2.imread(\"convert_rect2.jpg\")  # 整體成像預覽\n",
    "slice_img = cv2.imread(\"./testdata/10-15.jpg\")  # 個別成像預覽\n",
    "plt.xticks([]), plt.yticks([]) # to hide tick values on X and Y axis \n",
    "\n",
    "plt.imshow(slice_img) \n",
    "plt.show()\n",
    "\n",
    "grayImage = cv2.cvtColor(slice_img, cv2.COLOR_BGR2GRAY)  # gray(0-255) 圖像轉換灰階\n",
    "grayImage = cv2.GaussianBlur(grayImage, kernel_size, sigma)  # GaussianBlur  圖校進行模糊化(高斯)\n",
    "(thresh, blackAndWhiteImage) = cv2.threshold(grayImage,  170, 255, cv2.THRESH_BINARY)  # black and white(0, 255)  圖像透過thershold閾值進行二元化 \n",
    "slice_percent =  round(sum(sum(blackAndWhiteImage == 0))/100, 2)  # 計算黑色比例(作物占比)\n",
    "\n",
    "plt.xticks([]), plt.yticks([]) # to hide tick values on X and Y axis \n",
    "plt.imshow(blackAndWhiteImage) \n",
    "plt.show()\n",
    "\n",
    "cv2.destroyAllWindows()"
   ]
  },
  {
   "cell_type": "code",
   "execution_count": null,
   "metadata": {},
   "outputs": [],
   "source": [
    "# 載入class確認發芽閾值\n",
    "from ger import germination\n",
    "aaa = germination('3g1', '2020/1/31')\n",
    "print(aaa)"
   ]
  },
  {
   "cell_type": "code",
   "execution_count": null,
   "metadata": {},
   "outputs": [],
   "source": [
    "aaa.get_photo()"
   ]
  },
  {
   "cell_type": "code",
   "execution_count": null,
   "metadata": {},
   "outputs": [],
   "source": [
    "aaa.result_list"
   ]
  },
  {
   "cell_type": "code",
   "execution_count": null,
   "metadata": {},
   "outputs": [],
   "source": [
    "# 確認閾值下照片的發芽情況\n",
    "bad = []\n",
    "for i in aaa.result_list:\n",
    "    if i[2] < 0.3:\n",
    "#         plt.xticks([]), plt.yticks([]) # to hide tick values on X and Y axis \n",
    "#         plt.imshow(i)\n",
    "#         plt.show()\n",
    "        bad.append(i)\n",
    "bad\n"
   ]
  },
  {
   "cell_type": "code",
   "execution_count": null,
   "metadata": {},
   "outputs": [],
   "source": [
    "# 照片裁切個別另存\n",
    "img = cv2.imread(\"./convert_rect2.jpg\")\n",
    "plt.imshow(img, cmap = 'gray', interpolation = 'bicubic') \n",
    "plt.xticks([]), plt.yticks([]) # to hide tick values on X and Y axis \n",
    "# plt.plot([200,300,400],[100,200,300],'c', linewidth=5) \n",
    "plt.show()\n",
    "x = img.shape[0]\n",
    "y = img.shape[1]\n",
    "# 裁切區域的 x 與 y 座標（左上角）\n",
    "top = 0  # 最上面(+h)\n",
    "left = 0  # 最左邊(+w)\n",
    "plus = 100\n",
    "print(x, y)\n",
    "for i in range(13):\n",
    "    for j in range(22):\n",
    "        slice_img = img[top:top+plus, left:left+plus]\n",
    "        name = str(i)+'-'+str(j)+'.jpg'\n",
    "        dirs = './testdata/'  # 紀德艦資料夾(懶的自動怎樣)\n",
    "        cv2.imwrite(dirs+name, slice_img)\n",
    "        left = left + plus\n",
    "    top = top +plus\n",
    "    left = 0\n",
    "print('done')"
   ]
  },
  {
   "cell_type": "code",
   "execution_count": null,
   "metadata": {},
   "outputs": [],
   "source": []
  }
 ],
 "metadata": {
  "kernelspec": {
   "display_name": "Python 3",
   "language": "python",
   "name": "python3"
  },
  "language_info": {
   "codemirror_mode": {
    "name": "ipython",
    "version": 3
   },
   "file_extension": ".py",
   "mimetype": "text/x-python",
   "name": "python",
   "nbconvert_exporter": "python",
   "pygments_lexer": "ipython3",
   "version": "3.7.4"
  }
 },
 "nbformat": 4,
 "nbformat_minor": 4
}
