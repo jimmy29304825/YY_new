{
 "cells": [
  {
   "cell_type": "code",
   "execution_count": null,
   "metadata": {},
   "outputs": [],
   "source": [
    "from imutils.perspective import four_point_transform\n",
    "import cv2\n",
    "import numpy as np"
   ]
  },
  {
   "cell_type": "code",
   "execution_count": 1,
   "metadata": {},
   "outputs": [],
   "source": [
    "# 圖片梯形轉正\n",
    "def mouse_click(event, x, y, flags, para):\n",
    "    global four_points\n",
    "    \n",
    "    if event == cv2.EVENT_LBUTTONDOWN:  # 左边鼠标点击\n",
    "        four_points.append([x, y])\n",
    "        \n",
    "img_path = 'convert.jpg'\n",
    "image = cv2.imread(\"convert.jpg\", cv2.IMREAD_COLOR)\n",
    "four_points = []\n",
    "cv2.namedWindow(\"img\")\n",
    "cv2.setMouseCallback(\"img\", mouse_click)\n",
    "\n",
    "while True:\n",
    "    cv2.imshow('img', image)\n",
    "    if cv2.waitKey() == ord('q'):\n",
    "        break\n",
    "        \n",
    "print(four_points)\n",
    "rect = four_point_transform(image, np.array(four_points))\n",
    "cv2.imwrite('convert_rect.jpg', rect)\n",
    "cv2.imshow(\"rect\", rect)\n",
    "cv2.waitKey(0)\n",
    "cv2.destroyAllWindows()\n"
   ]
  },
  {
   "cell_type": "code",
   "execution_count": 6,
   "metadata": {},
   "outputs": [
    {
     "name": "stdout",
     "output_type": "stream",
     "text": [
      "(692, 1205, 3) (650, 1100, 3)\n"
     ]
    },
    {
     "data": {
      "text/plain": [
       "-1"
      ]
     },
     "execution_count": 6,
     "metadata": {},
     "output_type": "execute_result"
    }
   ],
   "source": [
    "# 圖片像速調整(硬改)\n",
    "\n",
    "oriimg = cv2.imread(\"convert_rect.jpg\", cv2.IMREAD_COLOR)\n",
    "'''\n",
    "# W = 1000\n",
    "# height, width, depth = oriimg.shape\n",
    "# imgScale = W/width\n",
    "# newX,newY = oriimg.shape[1]*imgScale, oriimg.shape[0]*imgScale\n",
    "'''\n",
    "newimg = cv2.resize(oriimg,(1100,650))\n",
    "# newimg = cv2.resize(oriimg,(300,300))\n",
    "print(oriimg.shape, newimg.shape)\n",
    "cv2.imwrite('convert_rect1.jpg', newimg)\n",
    "cv2.imshow(\"Show by CV2\",newimg)\n",
    "cv2.waitKey(0)"
   ]
  },
  {
   "cell_type": "code",
   "execution_count": null,
   "metadata": {},
   "outputs": [],
   "source": []
  }
 ],
 "metadata": {
  "kernelspec": {
   "display_name": "Python 3",
   "language": "python",
   "name": "python3"
  },
  "language_info": {
   "codemirror_mode": {
    "name": "ipython",
    "version": 3
   },
   "file_extension": ".py",
   "mimetype": "text/x-python",
   "name": "python",
   "nbconvert_exporter": "python",
   "pygments_lexer": "ipython3",
   "version": "3.7.4"
  }
 },
 "nbformat": 4,
 "nbformat_minor": 4
}
